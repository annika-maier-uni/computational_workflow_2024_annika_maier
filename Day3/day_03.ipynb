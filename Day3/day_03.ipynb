{
 "cells": [
  {
   "cell_type": "markdown",
   "metadata": {},
   "source": [
    "# Differential expression analysis\n"
   ]
  },
  {
   "cell_type": "markdown",
   "metadata": {},
   "source": [
    "**You have now successfully run the pipeline and checked the first quality control metrics of your fastq files. However, this is only primary analysis.**\n",
    "\n",
    "**We would now like to understand exactly the difference between our groups of mice.** \n",
    "\n",
    "**Which pipeline would you use for this?**\n"
   ]
  },
  {
   "cell_type": "markdown",
   "metadata": {},
   "source": [
    "differentialabundance"
   ]
  },
  {
   "cell_type": "markdown",
   "metadata": {},
   "source": [
    "**Please paste here the command you used**"
   ]
  },
  {
   "cell_type": "code",
   "execution_count": 26,
   "metadata": {},
   "outputs": [],
   "source": [
    "\n",
    "# for running with the lengths, the results will be more accurate, but the pipeline might take longer\n",
    "\n",
    "'''\n",
    "sample,fastq_1,fastq_2,condition,replicate,batch\n",
    "CONTROL_REP1,AEG588A1_S1_L002_R1_001.fastq.gz,AEG588A1_S1_L002_R2_001.fastq.gz,control,1,A\n",
    "CONTROL_REP2,AEG588A1_S1_L003_R1_001.fastq.gz,AEG588A1_S1_L003_R2_001.fastq.gz,control,2,B\n",
    "CONTROL_REP3,AEG588A1_S1_L004_R1_001.fastq.gz,AEG588A1_S1_L004_R2_001.fastq.gz,control,3,A\n",
    "TREATED_REP1,AEG588A2_S1_L002_R1_001.fastq.gz,AEG588A2_S1_L002_R2_001.fastq.gz,treated,1,B\n",
    "TREATED_REP2,AEG588A2_S1_L003_R1_001.fastq.gz,AEG588A2_S1_L003_R2_001.fastq.gz,treated,2,A\n",
    "TREATED_REP3,AEG588A2_S1_L004_R1_001.fastq.gz,AEG588A2_S1_L004_R2_001.fastq.gz,treated,3,B\n",
    "'''\n",
    "\n",
    "# with fastq paths omitted\n",
    "\n",
    "'''\n",
    "sample,condition,replicate,batch\n",
    "CONTROL_REP1,control,1,A\n",
    "CONTROL_REP2,control,2,B\n",
    "CONTROL_REP3,control,3,A\n",
    "TREATED_REP1,treated,1,B\n",
    "TREATED_REP2,treated,2,A\n",
    "TREATED_REP3,treated,3,B\n",
    "'''\n",
    "\n",
    "# minimal sample sheet\n",
    "\n",
    "'''\n",
    "sample,condition\n",
    "CONTROL_REP1,control\n",
    "CONTROL_REP2,control\n",
    "CONTROL_REP3,control\n",
    "TREATED_REP1,treated\n",
    "TREATED_REP2,treated\n",
    "TREATED_REP3,treated\n",
    "'''\n",
    "\n",
    "import os\n",
    "import pandas as pd\n",
    "\n",
    "output_name = \"samplesheet.csv\"\n",
    "\n",
    "# metadata\n",
    "input_file = \"data/salmon.merged.gene_counts.tsv\"\n",
    "\n",
    "# convert input tsv to pandas\n",
    "data = pd.read_csv(input_file, sep='\\t')\n",
    "#print(data)\n",
    "\n",
    "# Headers\n",
    "# FastQ files can be omitted apprently\n",
    "sample_sheet = pd.DataFrame(columns=['sample', 'condition'])\n",
    "sample_names = data.columns[2:] \n",
    "sample_sheet['sample'] = sample_names\n",
    "sample_sheet['condition'] = sample_sheet['sample'].str.replace(r'_\\d+$', '', regex=True)\n",
    "\n",
    "sample_sheet.to_csv('sample_sheet.csv', index=False)"
   ]
  },
  {
   "cell_type": "code",
   "execution_count": 36,
   "metadata": {},
   "outputs": [],
   "source": [
    "# Creating the contrasts file\n",
    "\n",
    "\n",
    "'''\n",
    "sample,      fastq_1,                         fastq_2,                       condition,replicate,batch\n",
    "CONTROL_REP1,AEG588A1_S1_L002_R1_001.fastq.gz,AEG588A1_S1_L002_R2_001.fastq.gz,control,  1,         A\n",
    "CONTROL_REP2,AEG588A1_S1_L003_R1_001.fastq.gz,AEG588A1_S1_L003_R2_001.fastq.gz,control,  2,         B\n",
    "CONTROL_REP3,AEG588A1_S1_L004_R1_001.fastq.gz,AEG588A1_S1_L004_R2_001.fastq.gz,control,  3,         A\n",
    "TREATED_REP1,AEG588A2_S1_L002_R1_001.fastq.gz,AEG588A2_S1_L002_R2_001.fastq.gz,treated,  1,         B\n",
    "TREATED_REP2,AEG588A2_S1_L003_R1_001.fastq.gz,AEG588A2_S1_L003_R2_001.fastq.gz,treated,  2,         A\n",
    "TREATED_REP3,AEG588A2_S1_L004_R1_001.fastq.gz,AEG588A2_S1_L004_R2_001.fastq.gz,treated,  3,         B\n",
    "'''\n",
    "\n",
    "#The contrasts file references the observations file to define groups of samples to compare. \n",
    "#For example, based on the sample sheet above we could define contrasts like:\n",
    "\n",
    "'''\n",
    "id,                                  variable,  reference, target,  blocking\n",
    "\n",
    "condition_control_treated,           condition,  control,   treated,\n",
    "condition_control_treated_blockrep,  condition,  control,   treated,  replicate;batch\n",
    "'''\n",
    "\n",
    "'''\n",
    "\n",
    "id - an arbitrary identifier, will be used to name contrast-wise output files \n",
    "\n",
    "variable - which column from the observations information will be used to define groups\n",
    "\n",
    "reference - the base/ reference level for the comparison. \n",
    "If features have higher values in this group than target they will generate negative fold changes\n",
    "# ex: 'Placebo'\n",
    "\n",
    "target - the target/ non-reference level for the comparison. \n",
    "If features have higher values in this group than the reference they will generate positive fold changes\n",
    "# ex: 'Drug' \n",
    "\n",
    "'''\n",
    "\n",
    "contrasts_sheet = pd.DataFrame(columns=['id', 'variable', 'reference', 'target'])\n",
    "\n",
    "contrasts_sheet.loc[0] = [\"a\", \"condition\", \"Sham_Sal\", \"Sham_oxy\"] # Sham-Oxy vs. Sham-Sal\n",
    "contrasts_sheet.loc[1] = [\"b\", \"condition\", \"Sham_Sal\", \"SNI_Sal\"] # SNI-Sal vs Sham-Sal,\n",
    "contrasts_sheet.loc[2] = [\"c\", \"condition\", \"Sham_Sal\", \"SNI_oxy\"] # SNI-Oxy vs Sham-Sal\n",
    "\n",
    "#contrasts_sheet.loc[3] = [\"d\", \"condition\", \"SNI_Sal\", \"SNI_oxy\"] # not used in the study \n",
    "#contrasts_sheet.loc[4] = [\"e\", \"condition\", \"Sham_oxy\", \"SNI_oxy\"] # not used in the study \n",
    "\n",
    "contrasts_sheet.to_csv('contrasts.csv', index=False)"
   ]
  },
  {
   "cell_type": "code",
   "execution_count": null,
   "metadata": {
    "vscode": {
     "languageId": "shellscript"
    }
   },
   "outputs": [],
   "source": [
    "# running the pipeline\n",
    "\n",
    "nextflow run nf-core/differentialabundance \\\n",
    "     --input sample_sheet.csv \\\n",
    "     --contrasts contrasts.csv \\\n",
    "     --matrix \"data/salmon.merged.gene_counts.tsv\" \\\n",
    "     --outdir results_diff_ana_v3  \\\n",
    "     -profile docker"
   ]
  },
  {
   "cell_type": "markdown",
   "metadata": {},
   "source": [
    "**Explain all the parameters you set and why you set them in this way.**\n"
   ]
  },
  {
   "cell_type": "markdown",
   "metadata": {},
   "source": [
    "```x\n",
    "--input sample_sheet.csv                                        required input file\n",
    "--contrasts contrasts.csv                                       required input file\n",
    "--matrix \"data/salmon.merged.gene_counts.tsv\"   required input file (output from rnaswq)\n",
    "--outdir results_diff_ana_v3                                       required output path\n",
    "-profile docker                                                 recommended to use docker.\n"
   ]
  },
  {
   "cell_type": "markdown",
   "metadata": {},
   "source": [
    "**How did the pipeline perform?**"
   ]
  },
  {
   "cell_type": "markdown",
   "metadata": {},
   "source": [
    "```x\n",
    "\n",
    "Completed at: 02-Oct-2024 11:19:42\n",
    "Duration    : 4m 18s\n",
    "CPU hours   : 0.1\n",
    "Succeeded   : 16\n"
   ]
  },
  {
   "cell_type": "markdown",
   "metadata": {},
   "source": [
    "**Would you exclude any samples? If yes, which and why?**"
   ]
  },
  {
   "cell_type": "markdown",
   "metadata": {},
   "source": [
    "_SNI_Sal_2_ and _SNI_Sal_4_ show extreme differences to the rest of the samples, supported by the bad quality seen in the MultiQC file.\n",
    "\n",
    "If rerunning the pipeline with those files excluded shows _Sham_oxy_1_ as an extreme outlier, that one should also be considered to be excluded."
   ]
  },
  {
   "cell_type": "markdown",
   "metadata": {},
   "source": [
    "**How many genes were differentially expressed in each contrast? Does this confirm what the paper mentions?**"
   ]
  },
  {
   "cell_type": "markdown",
   "metadata": {},
   "source": [
    "```x\n",
    "\n",
    "\t                        \tup\tdown\n",
    "Sham_oxy versus Sham_Sal in condition \t8\t0\n",
    "SNI_Sal versus Sham_Sal in condition \t72\t1\n",
    "SNI_oxy versus Sham_Sal in condition \t1\t1\n",
    "\n",
    "\n",
    "The paper mentioned HDAC1/HDAC2. However the analysis with the pipeline shows a completely different result.\n",
    "When comparing Sham_Sal versus SNI_oxy to see the impact of opioid withdrawl in SNI mice, CDr1 (linked to neural degeneration) was upregulated and Gm22614, a mRNA 5'-splice site recognition was down regulated. However since it seems to be required in long and complex pathways, no finite conclusion can be drawn.\n",
    "\n",
    "The paper seems to be comparing enzymes/proteins instead of genes themselves, which makes direct comparison without further analysis challenging."
   ]
  },
  {
   "cell_type": "markdown",
   "metadata": {},
   "source": [
    "**The paper mentions differentially expressed genes in three brain regions : the NAc, mPFC and VTA. Briefly explain what these 3 regions are.**"
   ]
  },
  {
   "cell_type": "markdown",
   "metadata": {},
   "source": [
    "```x\n",
    "NAc: nucleus accumbens. Has a role in motivation, aversion, reward, addiction and a chronic pain states.\n",
    "\n",
    "mPFC: medial prefrontal cortex . Guides control of cognitive actions. Top-down signals to other parts of the brain that guide the flow of activity along the pathways needed to perform a task.\n",
    "\n",
    "VTA: ventral tegmental area. Houses dopamine neurons and is related to the reward system, motivation, cognition, and drug addiction\n"
   ]
  },
  {
   "cell_type": "markdown",
   "metadata": {},
   "source": [
    "**Is there anyway from the paper and the material and methods for us to know which genes are included in these regions?**"
   ]
  },
  {
   "cell_type": "markdown",
   "metadata": {},
   "source": [
    "```x\n",
    "The paper does not mentione the genes in these regions directly, only the enzymes encoded by them, pathways and the amounts."
   ]
  },
  {
   "cell_type": "markdown",
   "metadata": {},
   "source": [
    "**Once you have your list of differentially expressed genes, do you think just communicating those to the biologists would be sufficient? What does the publication state?**"
   ]
  },
  {
   "cell_type": "markdown",
   "metadata": {},
   "source": [
    "```x\n",
    "Depending on the biologists background, I might have to first provide more information, for example via functional annotation. The paper states a change in the reward pathway, so pathways related to the genes would have to be found.\n"
   ]
  },
  {
   "cell_type": "markdown",
   "metadata": {},
   "source": [
    "**Please reproduce the Venn Diagram from Figure 3, not taking into account the brain regions but just the contrasts mentionned.**"
   ]
  },
  {
   "cell_type": "code",
   "execution_count": 12,
   "metadata": {},
   "outputs": [
    {
     "name": "stdout",
     "output_type": "stream",
     "text": [
      "Venn diagram saved as 'filtered_gene_overlap_venn_diagram.png'.\n"
     ]
    }
   ],
   "source": [
    "# Load the three datasets\n",
    "file_a = \"results_diff_ana_v3/tables/differential/a.deseq2.results.tsv\"\n",
    "file_b = \"results_diff_ana_v3/tables/differential/b.deseq2.results.tsv\"\n",
    "file_c = \"results_diff_ana_v3/tables/differential/c.deseq2.results.tsv\"\n",
    "\n",
    "import pandas as pd\n",
    "from venn import venn\n",
    "import matplotlib.pyplot as plt\n",
    "\n",
    "\n",
    "# Read each file into a DataFrame\n",
    "df_a = pd.read_csv(file_a, sep='\\t')\n",
    "df_b = pd.read_csv(file_b, sep='\\t')\n",
    "df_c = pd.read_csv(file_c, sep='\\t')\n",
    "\n",
    "# Define a function to filter for DEGs based on significance criteria\n",
    "def filter_degs(df):\n",
    "    return df[(df['padj'] < 0.05) & (df['log2FoldChange'].abs() > 1) & df['padj'].notnull()]['gene_id']\n",
    "\n",
    "# Filter for significant DEGs\n",
    "deg_a = set(filter_degs(df_a))  # DEGs for Sham-Oxy vs Sham-Sal\n",
    "deg_b = set(filter_degs(df_b))  # DEGs for SNI-Sal vs Sham-Sal\n",
    "deg_c = set(filter_degs(df_c))  # DEGs for SNI-Oxy vs Sham-Sal\n",
    "\n",
    "# Create a dictionary for the Venn package\n",
    "data_dict = {\n",
    "    'Sham-Oxy vs Sham-Sal': deg_a,\n",
    "    'SNI-Sal vs Sham-Sal': deg_b,\n",
    "    'SNI-Oxy vs Sham-Sal': deg_c\n",
    "}\n",
    "\n",
    "# Generate the Venn diagram\n",
    "venn(data_dict)\n",
    "\n",
    "# Set the title and save the figure\n",
    "output_filename = \"filtered_gene_overlap_venn_diagram.png\"\n",
    "plt.title(\"Venn Diagram for DEGs Using `venn` Package\")\n",
    "plt.savefig(output_filename, format='png', dpi=300)\n",
    "plt.close()\n",
    "\n",
    "print(f\"Venn diagram saved as '{output_filename}'.\")\n",
    "\n"
   ]
  },
  {
   "cell_type": "markdown",
   "metadata": {},
   "source": [
    "![alt text](filtered_gene_overlap_venn_diagram.png \"Title\")"
   ]
  }
 ],
 "metadata": {
  "kernelspec": {
   "display_name": "comp_work_kernel",
   "language": "python",
   "name": "comp_work_kernel"
  },
  "language_info": {
   "codemirror_mode": {
    "name": "ipython",
    "version": 3
   },
   "file_extension": ".py",
   "mimetype": "text/x-python",
   "name": "python",
   "nbconvert_exporter": "python",
   "pygments_lexer": "ipython3",
   "version": "3.10.14"
  }
 },
 "nbformat": 4,
 "nbformat_minor": 2
}
