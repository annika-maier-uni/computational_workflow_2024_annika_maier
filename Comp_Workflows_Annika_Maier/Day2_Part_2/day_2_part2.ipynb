{
 "cells": [
  {
   "cell_type": "markdown",
   "metadata": {},
   "source": [
    "## Great, now that we discussed a little let's continue"
   ]
  },
  {
   "cell_type": "markdown",
   "metadata": {},
   "source": [
    "**Given that the current approach utilized by the authors lacks reproducibility, we will explore an alternative method by leveraging nf-core pipelines for data analysis.**\n",
    "\n",
    "**Please explain, how we will achieve reproducibility for the course  with this approach.**\n"
   ]
  },
  {
   "cell_type": "markdown",
   "metadata": {},
   "source": [
    "Reproducibility can be improved by using a nf-core pipeline.\n",
    "Here the processes is not only transparent, since the tools used can be easily seen, it is also easy to check the versions for each run. Additionally, docker containers can be used to simulate identical environments. Lastly, the strict documentation guidelines for nf-core pipelines improve replicability"
   ]
  },
  {
   "cell_type": "markdown",
   "metadata": {},
   "source": [
    "**You have successfully downloaded 2 of the fastq files we will use in our study.**\n",
    "\n",
    "**What is the next step if we want to first have a count table and check the quality of our fastq files? What is the pipeline called to do so?**"
   ]
  },
  {
   "cell_type": "markdown",
   "metadata": {},
   "source": [
    "First we want to do some quality control on the FastQ files and perform a read aligmment.\n",
    "\n",
    "The rnaseq  pipeline can help with that"
   ]
  },
  {
   "cell_type": "markdown",
   "metadata": {},
   "source": [
    "**Analyze the 2 files using an nf-core pipeline.**\n",
    "\n",
    "**What does this pipeline do?**"
   ]
  },
  {
   "cell_type": "markdown",
   "metadata": {},
   "source": [
    "The rnaseq pipeline is used to analyze RNA sequencing data with a reference genome and annotation. It performs quality control, trimming, and alignment, and produces a gene expression matrix and a Quality Control report.\n"
   ]
  },
  {
   "cell_type": "markdown",
   "metadata": {},
   "source": [
    "\n",
    "\n",
    "**Which are the main tools that will be used in the pipeline?**"
   ]
  },
  {
   "cell_type": "markdown",
   "metadata": {},
   "source": [
    "\n",
    "\n",
    "- **Merge re-sequenced FastQ files** (`cat`)\n",
    "- **Auto-infer strandedness by subsampling and pseudoalignment** (`fq`, `Salmon`)\n",
    "- **Read QC** (`FastQC`)\n",
    "- **UMI extraction** (`UMI-tools`)\n",
    "- **Adapter and quality trimming** (`Trim Galore!`)\n",
    "- **Removal of genome contaminants** (`BBSplit`)\n",
    "- **Removal of ribosomal RNA** (`SortMeRNA`)\n",
    "- **Alignment and quantification routes:**\n",
    "  - `STAR` -> `Salmon`\n",
    "  - `STAR` -> `RSEM`\n",
    "  - `HiSAT2` -> No quantification\n",
    "- **Sort and index alignments** (`SAMtools`)\n",
    "- **UMI-based deduplication** (`UMI-tools`)\n",
    "- **Duplicate read marking** (`picard MarkDuplicates`)\n",
    "- **Transcript assembly and quantification** (`StringTie`)\n",
    "- **Create bigWig coverage files** (`BEDTools`, `bedGraphToBigWig`)\n",
    "- **Extensive quality control:**\n",
    "  - `RSeQC`\n",
    "  - `Qualimap`\n",
    "  - `dupRadar`\n",
    "  - `Preseq`\n",
    "  - `DESeq2`\n",
    "- **Pseudoalignment and quantification** (`Salmon` or `Kallisto`; optional)\n",
    "- **Present QC for various checks** (`MultiQC`, `R`):\n",
    "  - Raw read\n",
    "  - Alignment\n",
    "  - Gene biotype\n",
    "  - Sample similarity\n",
    "  - Strand-specificity checks"
   ]
  },
  {
   "cell_type": "markdown",
   "metadata": {},
   "source": [
    "**As all other nf-core pipelines, the chosen pipeline takes in a samplesheet as input.**\n",
    "\n",
    "**Use Python and pandas to create the samplesheet for your 2 samples. Feel free to make use of the table you created earlier today.**\n",
    "\n",
    "**Choose your sample names wisely, they must be the connection of the results to the metadata. If you can't find the sample in the metadata later, the analysis was useless.**"
   ]
  },
  {
   "cell_type": "code",
   "execution_count": 17,
   "metadata": {},
   "outputs": [],
   "source": [
    "# Creating the sample sheet\n",
    "\n",
    "'''\n",
    "sample,fastq_1,fastq_2,strandedness\n",
    "CONTROL_REP1,AEG588A1_S1_L002_R1_001.fastq.gz,AEG588A1_S1_L002_R2_001.fastq.gz,auto\n",
    "CONTROL_REP1,AEG588A1_S1_L003_R1_001.fastq.gz,AEG588A1_S1_L003_R2_001.fastq.gz,auto\n",
    "CONTROL_REP1,AEG588A1_S1_L004_R1_001.fastq.gz,AEG588A1_S1_L004_R2_001.fastq.gz,auto\n",
    "'''\n",
    "\n",
    "import os\n",
    "\n",
    "output_name = \"samplesheet.csv\"\n",
    "\n",
    "# metadata\n",
    "input_file = \"data/input_day2_part2.txt\"\n",
    "\n",
    "# Directory containing the FastQ files\n",
    "fastq_directory = \"data/fastq\" # fastq files omitted for size\n",
    "\n",
    "# Read the input file\n",
    "with open(input_file, \"r\") as file:\n",
    "    samples = file.read().splitlines()\n",
    "\n",
    "output_lines = [\"sample,fastq_1,fastq_2,strandedness\"]\n",
    "\n",
    "# Process each sample in the input\n",
    "for sample in samples:\n",
    "    # Extract the run accession number\n",
    "    run_accession = sample.split(\"_\")[0]\n",
    "\n",
    "    # Find corresponding FastQ files\n",
    "    fastq_files = [\n",
    "        f for f in os.listdir(fastq_directory)\n",
    "        if run_accession in f\n",
    "    ]\n",
    "\n",
    "    # Create the output line in the desired format\n",
    "    output_line = f\"{sample},{fastq_files[0]},{fastq_files[1]},auto\"\n",
    "    output_lines.append(output_line)\n",
    "\n",
    "\n",
    "output_file = \"samplesheet.csv\"\n",
    "with open(output_file, \"w\") as file:\n",
    "    file.write(\"\\n\".join(output_lines))\n"
   ]
  },
  {
   "cell_type": "code",
   "execution_count": null,
   "metadata": {},
   "outputs": [],
   "source": [
    "# post here the command you used to run nf-core/rnaseq\n",
    "\n",
    "!nextflow run nf-core/rnaseq \\\n",
    "    --input samplesheet.csv \\\n",
    "    --outdir rnaseq_output \\\n",
    "    --genome GRCm38 \\\n",
    "    -profile docker \\\n",
    "    --aligner hisat2 \\\n",
    "    -- max_cpus 8 \\\n",
    "    -- max_memory 15    \n"
   ]
  },
  {
   "cell_type": "markdown",
   "metadata": {},
   "source": [
    "**Explain all the parameters you set and why you set them in this way.**\n",
    "\n"
   ]
  },
  {
   "cell_type": "markdown",
   "metadata": {},
   "source": [
    "--input samplesheet.csv     # The input samplesheet. Required\n",
    "\n",
    "--outdir rnaseq_output      # The output directory. Required\n",
    "\n",
    "--genome GRCm38             # Reference genome. The reference genome mm10 could not be downloaded, so --genome has been used instead\n",
    "\n",
    "-profile docker             # Docker is recommended\n",
    "\n",
    "--aligner hisat2            # Since I only have 15.4 GB of memory, --aligner hisat2 is necessary\n",
    "\n",
    "--max_cpus 8                # Limited due to bad PC specifications\n",
    "\n",
    "--max_memory 15GB           # Limited due to bad PC specifications"
   ]
  },
  {
   "cell_type": "markdown",
   "metadata": {},
   "source": [
    "## Browsing the results"
   ]
  },
  {
   "cell_type": "markdown",
   "metadata": {},
   "source": [
    "**How did the pipeline perform?**"
   ]
  },
  {
   "cell_type": "markdown",
   "metadata": {},
   "source": [
    "Since the pipeline took too long on my device, other results have been used.\n",
    "\n",
    "In those results, the pipeline was executed succesfully on 15th August and took 1h 24 min."
   ]
  },
  {
   "cell_type": "markdown",
   "metadata": {},
   "source": [
    "**Explain the quality control steps. Are you happy with the quality and why. If not, why not.**\n",
    "**Please give additional information on :**\n",
    "\n",
    "**- ribosomal rRNA**\n",
    "\n",
    "**- Duplication**\n",
    "\n",
    "**- GC content**\n",
    "\n",
    "**What are the possible steps that could lead to poorer results?**"
   ]
  },
  {
   "cell_type": "markdown",
   "metadata": {},
   "source": [
    "**Would you exclude any samples? If yes, which and why?**"
   ]
  },
  {
   "cell_type": "markdown",
   "metadata": {},
   "source": [
    "Since there were 32 files analyzed, 2 random examples have been analyzed. First I had a look at the FastQC files. \n",
    "\n",
    "_Sham_oxy_1_1_fastqc.html_ \n",
    "\n",
    "and\n",
    "\n",
    "_SNI_Sal_1_1_fastqc.html_\n",
    "\n",
    "\n",
    "_Sham_oxy_1_1_fastqc.html_  has general good results. Towards the end of the read the quality declined a lot, like expected. Read trimming would be recommended here. The adapter is also still present in the FastQC report. \n",
    "\n",
    "The GC content shows a strong deviation from the expected result and there are a lot of overrepresented sequences. This could be a sign of rRNA contamination.\n",
    "\n",
    "\n",
    "_SNI_Sal_1_1_fastqc.html_ has similar results, with better qualoty towards the end of the reads and less issues for the GC content. It also has some overrepresented sequences, but this is likely mostly due to the adapter.\n",
    "\n",
    "Since these issues could be solved by trimming, the pipeline should be able to improve the quality and the reads can be used.\n",
    "\n",
    "\n",
    "_Sham_oxy_1_fastqc.html_  \n",
    "\n",
    "rRNA : 1.40% (acceptable levels of contamination)\n",
    "Duplication: 38.9%\n",
    "GC content: 63%\n",
    "\n",
    "_SNI_Sal_1_fastqc.html_\n",
    "\n",
    "rRNA : 0.02% (acceptable levels of rRNA contamination)\n",
    "Duplication: 73.7%\n",
    "GC content: 48%\n",
    "\n",
    "\n",
    "When looking at the MultiQC report, we can see some samples with high rRNA contamination. Specifically _SNI_Sal_2_ and _SNI_Sal_4_.  Additionally, those samples failed the strand check.\n",
    "For those samples with higher duplication values, those can be explained by RNA-seq often being dominated by the transcripts of a few genes. So a higher than usual duplicaiton level is expected. \n",
    "\n",
    "I would exclude _SNI_Sal_2_ and _SNI_Sal_4_ because of those reasons.\n",
    "\n",
    "Additonally, _Sham_oxy_1_ shows some bad mapping. MultiQC shows that less than 30% could be mapped due to the reads being too short. For this reason, I would also expclude _Sham_oxy_1\n",
    "\n",
    "\n",
    "\n",
    "The issues in quality are likely due to poor library preparation. Including those samples with bad quality could lead to a worse overall result.\n",
    "\n",
    "\n",
    "Due to the small sample size, all samples could be used for analysis. If the downstream analysis shows any issues, they could be removed afterwards."
   ]
  },
  {
   "cell_type": "markdown",
   "metadata": {},
   "source": [
    "**What would you now do to continue the experiment? What are the scientists trying to figure out? Which packages on R or python would you use?**"
   ]
  },
  {
   "cell_type": "markdown",
   "metadata": {},
   "source": [
    "To continue the experiment, we now want to see the difference in the four groups (Sham_oxy, SNI_oxy, Sham_Sal and\n",
    "Sham_oxy) in their expression.\n",
    "\n",
    "\n",
    "In the paper it was stated that differential expression analysis was performed.\n",
    "The goal was to compare the oxycodone withrdawl versus saline treatment effects in SNI and sham mice. \n",
    "\n",
    "\n",
    "The ggVennDiagram R package can be used for Venn diagram generation. The R package pheatmap can be used to generate heatmaps for the different samples.\n",
    "Pathway analysis can be conducted using IPA.\n"
   ]
  }
 ],
 "metadata": {
  "kernelspec": {
   "display_name": "comp_work_kernel",
   "language": "python",
   "name": "comp_work_kernel"
  },
  "language_info": {
   "codemirror_mode": {
    "name": "ipython",
    "version": 3
   },
   "file_extension": ".py",
   "mimetype": "text/x-python",
   "name": "python",
   "nbconvert_exporter": "python",
   "pygments_lexer": "ipython3",
   "version": "3.10.14"
  }
 },
 "nbformat": 4,
 "nbformat_minor": 2
}
