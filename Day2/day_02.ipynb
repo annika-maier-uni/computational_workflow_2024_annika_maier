{
 "cells": [
  {
   "cell_type": "markdown",
   "metadata": {},
   "source": [
    "# Day 2\n",
    "\n",
    "**Today, we will start using nf-core pipelines to find differentially abundant genes in our dataset.** \n",
    "**We are using data from the following paper: https://www.nature.com/articles/s41593-023-01350-3#Sec10**"
   ]
  },
  {
   "cell_type": "markdown",
   "metadata": {
    "vscode": {
     "languageId": "plaintext"
    }
   },
   "source": [
    "**1. Please take some time to read through the paper and understand their approach, hypotheses and goals.**"
   ]
  },
  {
   "cell_type": "markdown",
   "metadata": {
    "vscode": {
     "languageId": "plaintext"
    }
   },
   "source": [
    "**What was the objective of the study?**"
   ]
  },
  {
   "cell_type": "markdown",
   "metadata": {},
   "source": [
    "\n",
    "To better understand the transcriptomic effects of chronic opioid exposure and physical dependence under chronic pain states in the brain reward circuitry, like the inhibition of HDAC1/HDAC2.\n",
    "\n",
    "They administered high doses of oxycodone, an opioid for to mice with prolonged spared nerve injury following spontaneous withdrawal.\n"
   ]
  },
  {
   "cell_type": "markdown",
   "metadata": {
    "vscode": {
     "languageId": "plaintext"
    }
   },
   "source": [
    "**What do the conditions mean?**"
   ]
  },
  {
   "cell_type": "markdown",
   "metadata": {},
   "source": [
    "oxy: oxycodon injection\n",
    "\n",
    "\n",
    "sal: saline injection"
   ]
  },
  {
   "cell_type": "markdown",
   "metadata": {},
   "source": [
    "**What do the genotypes mean?**"
   ]
  },
  {
   "cell_type": "markdown",
   "metadata": {},
   "source": [
    "SNI: spared nerve injury\n",
    "\n",
    "\n",
    "Sham: No intervention (fake surgery)"
   ]
  },
  {
   "cell_type": "markdown",
   "metadata": {},
   "source": [
    "**Imagine you are the bioinformatician in the group who conducted this study. They hand you the raw files and ask you to analyze them.**\n",
    "\n",
    "**What would you do?**\n",
    "\n",
    "I would perform multiple steps to first check the quality of the raw data. Then perform an alignment against reference data.\n",
    "Afterwards, the difference of gene expression in the four groups would have to be analyzed and compared.\n",
    "\n",
    "**Which groups would you compare to each other?**\n",
    "\n",
    "I would compare sal vs. oxy groups to analyze withdrawl and transcriptomic changes, and SNI vs. Sham groups to analyze chronic pain vs. no chronic pain.\n",
    "\n",
    "**Please also mention which outcome you would expect to see from each comparison.**\n",
    "\n",
    "The expected outcomes for comparing sal vs. oxy groups would be useful for showing the impact of opioids and withdrawl compared to a control. Here no signs of opioid usage or withdrawl are expected in sal mice, while they are expetcted in oxy mice.\n",
    "\n",
    "Comparing SNI vs. Sham mice is useful for showing the difference between a chronic pain condition vs no chronic pain condition. Here it is expected that the Sham mice act as a control group with no exptected data supporting chronic pain, while the SNI group would show them. "
   ]
  },
  {
   "cell_type": "code",
   "execution_count": 112,
   "metadata": {},
   "outputs": [
    {
     "name": "stdout",
     "output_type": "stream",
     "text": [
      "sorted_Sal_Sham\n",
      "         sample fastq_1 fastq_2\n",
      "2   SRR23195507    None    None\n",
      "7   SRR23195512    None    None\n",
      "10  SRR23195515    None    None\n",
      "15  SRR23195520    None    None\n",
      "sorted_Sal_SNI\n",
      "         sample fastq_1 fastq_2\n",
      "0   SRR23195505    None    None\n",
      "5   SRR23195510    None    None\n",
      "8   SRR23195513    None    None\n",
      "13  SRR23195518    None    None\n",
      "sorted_Oxy_Sham\n",
      "         sample fastq_1 fastq_2\n",
      "1   SRR23195506    None    None\n",
      "6   SRR23195511    None    None\n",
      "9   SRR23195514    None    None\n",
      "14  SRR23195519    None    None\n",
      "sorted_Oxy_SNI\n",
      "         sample fastq_1 fastq_2\n",
      "3   SRR23195508    None    None\n",
      "4   SRR23195509    None    None\n",
      "11  SRR23195516    None    None\n",
      "12  SRR23195517    None    None\n"
     ]
    }
   ],
   "source": [
    "# sorting the table\n",
    "import pandas as pd\n",
    "\n",
    "\n",
    "# reference\n",
    "'''\n",
    "sample,fastq_1,fastq_2,strandedness\n",
    "CONTROL_REP1,AEG588A1_S1_L002_R1_001.fastq.gz,AEG588A1_S1_L002_R2_001.fastq.gz,auto\n",
    "CONTROL_REP1,AEG588A1_S1_L003_R1_001.fastq.gz,AEG588A1_S1_L003_R2_001.fastq.gz,auto\n",
    "CONTROL_REP1,AEG588A1_S1_L004_R1_001.fastq.gz,AEG588A1_S1_L004_R2_001.fastq.gz,auto\n",
    "'''\n",
    "\n",
    "\n",
    "# Read Excel file\n",
    "df = pd.read_excel(\"data/conditions_runs_oxy_project.xlsx\", sheet_name=\"Sheet1\")\n",
    "\n",
    "\n",
    "Sal_Sham = df[(df['condition: Sal'] == \"x\") & (df['Genotype: Sham'] == \"x\")]\n",
    "\n",
    "Sal_SNI = df[(df['condition: Sal'] == \"x\") & (df['Genotype: SNI'] == \"x\")]\n",
    "Oxy_Sham = df[(df['Condition: Oxy'] == \"x\") & (df['Genotype: Sham'] == \"x\")]\n",
    "Oxy_SNI = df[(df['Condition: Oxy'] == \"x\") & (df['Genotype: SNI'] == \"x\")]\n",
    "\n",
    "samples_Sal_Sham = Sal_Sham.iloc[:, 1]\n",
    "samples_Sal_SNI = Sal_SNI.iloc[:, 1]\n",
    "samples_Oxy_Sham = Oxy_Sham.iloc[:, 1]\n",
    "samples_Oxy_SNI = Oxy_SNI.iloc[:, 1]\n",
    "\n",
    "\n",
    "# Sorted table\n",
    "\n",
    "sorted_Sal_Sham = pd.DataFrame({'sample': samples_Sal_Sham, 'fastq_1': None, 'fastq_2': None})\n",
    "print(\"sorted_Sal_Sham\")\n",
    "print(sorted_Sal_Sham)\n",
    "sorted_Sal_Sham.name = \"Sal_Sham\"\n",
    "\n",
    "sorted_Sal_SNI = pd.DataFrame({'sample': samples_Sal_SNI, 'fastq_1': None, 'fastq_2': None})\n",
    "print(\"sorted_Sal_SNI\")\n",
    "print(sorted_Sal_SNI)\n",
    "sorted_Sal_SNI.name = \"Sal_SNI\"\n",
    "\n",
    "sorted_Oxy_Sham = pd.DataFrame({'sample': samples_Oxy_Sham, 'fastq_1': None, 'fastq_2': None})\n",
    "print(\"sorted_Oxy_Sham\")\n",
    "print(sorted_Oxy_Sham)\n",
    "sorted_Oxy_Sham.name = \"Oxy_Sham\"\n",
    "\n",
    "sorted_Oxy_SNI = pd.DataFrame({'sample': samples_Oxy_SNI, 'fastq_1': None, 'fastq_2': None})\n",
    "print(\"sorted_Oxy_SNI\")\n",
    "print(sorted_Oxy_SNI)\n",
    "sorted_Oxy_SNI.name = \"Oxy_SNI\""
   ]
  },
  {
   "cell_type": "code",
   "execution_count": 69,
   "metadata": {},
   "outputs": [
    {
     "name": "stdout",
     "output_type": "stream",
     "text": [
      "1. How many samples do you have per condition?\n",
      "\n",
      "Samples per Sal  8\n",
      "Samples per Oxy  8\n"
     ]
    }
   ],
   "source": [
    "# 1. How many samples do you have per condition?\n",
    "\n",
    "print(\"1. How many samples do you have per condition?\\n\")\n",
    "\n",
    "samples_per_Sal = sorted_Sal_Sham.shape[0] + sorted_Sal_SNI.shape[0]\n",
    "\n",
    "print(\"Samples per Sal \", samples_per_Sal)\n",
    "\n",
    "samples_per_Oxy = sorted_Oxy_Sham.shape[0] + sorted_Oxy_SNI.shape[0]\n",
    "\n",
    "print(\"Samples per Oxy \", samples_per_Oxy)"
   ]
  },
  {
   "cell_type": "code",
   "execution_count": 70,
   "metadata": {},
   "outputs": [
    {
     "name": "stdout",
     "output_type": "stream",
     "text": [
      "2. How many samples do you have per genotype?\n",
      "\n",
      "Samples per Sham  8\n",
      "Samples per SNI  8\n"
     ]
    }
   ],
   "source": [
    "# 2. How many samples do you have per genotype?\n",
    "\n",
    "print(\"2. How many samples do you have per genotype?\\n\")\n",
    "\n",
    "samples_per_Sham = sorted_Oxy_Sham.shape[0] + sorted_Sal_Sham.shape[0]\n",
    "\n",
    "print(\"Samples per Sham \", samples_per_Sham)\n",
    "\n",
    "samples_per_SNI = sorted_Oxy_SNI.shape[0] + sorted_Sal_SNI.shape[0]\n",
    "\n",
    "print(\"Samples per SNI \", samples_per_SNI)"
   ]
  },
  {
   "cell_type": "code",
   "execution_count": 71,
   "metadata": {},
   "outputs": [
    {
     "name": "stdout",
     "output_type": "stream",
     "text": [
      "3. How often do you have each condition per genotype?\n",
      "\n",
      "Sample for Sal_Sham  4\n",
      "Sample for Sal_SNI  4\n",
      "Sample for Oxy_Sham  4\n",
      "Sample for Oxy_SNI  4\n"
     ]
    }
   ],
   "source": [
    "# 3. How often do you have each condition per genotype?\n",
    "\n",
    "print(\"3. How often do you have each condition per genotype?\\n\")\n",
    "\n",
    "print(\"Sample for Sal_Sham \", sorted_Sal_Sham.shape[0])\n",
    "print(\"Sample for Sal_SNI \", sorted_Sal_SNI.shape[0])\n",
    "print(\"Sample for Oxy_Sham \", sorted_Oxy_Sham.shape[0])\n",
    "print(\"Sample for Oxy_SNI \", sorted_Oxy_SNI.shape[0])"
   ]
  },
  {
   "cell_type": "markdown",
   "metadata": {},
   "source": [
    "**They were so kind to also provide you with the information of the number of bases per run, so that you can know how much space the data will take on your Cluster.<br>**\n",
    "**Add a new column to your fancy table with this information (base_counts.csv) and sort your dataframe according to this information and the condition.**\n",
    "\n"
   ]
  },
  {
   "cell_type": "code",
   "execution_count": 91,
   "metadata": {},
   "outputs": [],
   "source": [
    "# Read csv file\n",
    "csv = pd.read_csv(\"data/base_counts.csv\")\n",
    "\n",
    "samples = [sorted_Oxy_SNI, sorted_Oxy_Sham, sorted_Sal_SNI, sorted_Sal_Sham]\n",
    "\n",
    "# add Bases\n",
    "for i, df in enumerate(samples):\n",
    "    df['Bases'] = df['sample'].map(csv.set_index('Run')['Bases'])\n"
   ]
  },
  {
   "cell_type": "markdown",
   "metadata": {},
   "source": [
    "**Then select the 2 smallest runs from your dataset**"
   ]
  },
  {
   "cell_type": "code",
   "execution_count": 109,
   "metadata": {},
   "outputs": [
    {
     "name": "stdout",
     "output_type": "stream",
     "text": [
      "The smallest samples are\n",
      "SRR23195516  with  6203117700  bases\n",
      "SRR23195511  with  6456390900  bases\n"
     ]
    }
   ],
   "source": [
    "lowest = [[float('inf'), 0, 0], [float('inf'), 0, 0]]\n",
    "\n",
    "for i, df in enumerate(samples):\n",
    "\n",
    "    for index, row in df.iterrows():\n",
    "        if row.Bases < lowest[0][0]:\n",
    "            lowest[0] = [row.Bases, row['sample'], df.name]\n",
    "            \n",
    "        elif row.Bases < lowest[1][0]:\n",
    "            lowest[1] = [row.Bases, row['sample'], df.name]\n",
    "\n",
    "\n",
    "print(\"The smallest samples are\")\n",
    "for sample in lowest:\n",
    "    print(sample[1], \" with \", sample[0], \" bases\")\n",
    "\n"
   ]
  },
  {
   "cell_type": "markdown",
   "metadata": {},
   "source": [
    "**and download them from SRA (maybe an nf-core pipeline can help here?...)**"
   ]
  },
  {
   "cell_type": "code",
   "execution_count": 111,
   "metadata": {},
   "outputs": [],
   "source": [
    "# Creating the csv file\n",
    "\n",
    "file_name = \"results/ids.csv\"\n",
    "\n",
    "with open(file_name, \"w\") as file:\n",
    "    for sample in lowest:\n",
    "         file.write(f\"{sample[1]}\\n\")"
   ]
  },
  {
   "cell_type": "code",
   "execution_count": null,
   "metadata": {},
   "outputs": [],
   "source": [
    "# Downloading the files\n",
    "\n",
    "!nextflow run nf-core/fetchngs --input ./ids.csv --outdir ./results -profile docker\n"
   ]
  },
  {
   "cell_type": "markdown",
   "metadata": {},
   "source": [
    "**While your files are downloading, get back to the paper and explain how you would try to reproduce the analysis.<br>**\n",
    "**When you are done with this shout, so we can discuss the different ideas.**\n"
   ]
  },
  {
   "cell_type": "markdown",
   "metadata": {},
   "source": [
    "To reproduce the results, I would analyze the data by checking its quality, performing trimming, alignment etc. of all datasets and compare the results of the different groups. "
   ]
  },
  {
   "cell_type": "markdown",
   "metadata": {},
   "source": [
    "**Use pipeline to download files, if it requires more specs, then still write down the commands.**\n"
   ]
  },
  {
   "cell_type": "code",
   "execution_count": 121,
   "metadata": {},
   "outputs": [],
   "source": [
    "# Create table for Day 2 Part 2 analysis\n",
    "file_name = \"results/input_day2_part2.txt\"\n",
    "\n",
    "with open(file_name, \"w\") as file:\n",
    "    for sample in lowest:\n",
    "         file.write(f\"{sample[1]}_{sample[2]}\\n\")"
   ]
  }
 ],
 "metadata": {
  "kernelspec": {
   "display_name": "comp_work_kernel",
   "language": "python",
   "name": "comp_work_kernel"
  },
  "language_info": {
   "codemirror_mode": {
    "name": "ipython",
    "version": 3
   },
   "file_extension": ".py",
   "mimetype": "text/x-python",
   "name": "python",
   "nbconvert_exporter": "python",
   "pygments_lexer": "ipython3",
   "version": "3.10.14"
  }
 },
 "nbformat": 4,
 "nbformat_minor": 2
}
