{
 "cells": [
  {
   "cell_type": "markdown",
   "metadata": {},
   "source": [
    "# Computational Workflows for biomedical data"
   ]
  },
  {
   "cell_type": "markdown",
   "metadata": {},
   "source": [
    "**Welcome to the course Computational Workflows for Biomedical Data. Over the next two weeks, you will learn how to leverage nf-core pipelines to analyze biomedical data and gain hands-on experience in creating your own pipelines, with a strong emphasis on Nextflow and nf-core.**\n",
    "\n",
    "**Course Structure:**\n",
    "\n",
    "**- Week 1: You will use a variety of nf-core pipelines to analyze a publicly available biomedical study.**\n",
    "**- Week 2: We will shift focus to learning the basics of Nextflow, enabling you to design and implement your own computational workflows.<br>**\n",
    "**- Final Project: The last couple of days, you will apply your knowledge to create a custom pipeline for analyzing biomedical data using Nextflow and the nf-core template.**"
   ]
  },
  {
   "cell_type": "markdown",
   "metadata": {},
   "source": [
    "## Basics\n",
    "\n",
    "**If you have not installed all required software, please do so now asap!**\n",
    "\n",
    "\n",
    "**If you already installed all software, please go on and start answering the questions in this notebook. If you have any questions, don't hesitate to approach us.**"
   ]
  },
  {
   "cell_type": "markdown",
   "metadata": {},
   "source": [
    "**1. What is nf-core?**"
   ]
  },
  {
   "cell_type": "markdown",
   "metadata": {
    "vscode": {
     "languageId": "plaintext"
    }
   },
   "source": [
    "The nf-core framework is a mean for the development of collaborative, peer-reviewed, best-practice analysis pipelines. The pipelines are written in Nextflow to be executed on most computational infrastructures. They have native support for container technologies like Docker."
   ]
  },
  {
   "cell_type": "markdown",
   "metadata": {},
   "source": [
    "**2. How many pipelines are there currently in nf-core?**"
   ]
  },
  {
   "cell_type": "markdown",
   "metadata": {},
   "source": [
    "112 (03.09.2024)"
   ]
  },
  {
   "cell_type": "markdown",
   "metadata": {},
   "source": [
    "**3. Are there any non-bioinformatic pipelines in nf-core?**"
   ]
  },
  {
   "cell_type": "markdown",
   "metadata": {},
   "source": [
    " spinningjenny is a pipeline for simulating the first industrial revolution"
   ]
  },
  {
   "cell_type": "markdown",
   "metadata": {},
   "source": [
    "**4. Let's go back a couple of steps. What is a pipeline and what do we use it for?**"
   ]
  },
  {
   "cell_type": "markdown",
   "metadata": {},
   "source": [
    "A pipeline consists of multiple processes. The output of one process becomes the input of the next."
   ]
  },
  {
   "cell_type": "markdown",
   "metadata": {},
   "source": [
    "**5. Why do you think nf-core adheres to strict guidelines?**"
   ]
  },
  {
   "cell_type": "markdown",
   "metadata": {},
   "source": [
    "Reproductibility is very important in science. Adhering to those guidelines ensures a more streamlined process."
   ]
  },
  {
   "cell_type": "markdown",
   "metadata": {
    "vscode": {
     "languageId": "plaintext"
    }
   },
   "source": [
    "**6. What are the main features of nf-core pipelines?**"
   ]
  },
  {
   "cell_type": "markdown",
   "metadata": {},
   "source": [
    "- collaborative <br>\n",
    "- peer-reviewed <br>\n",
    "- open source <br>\n",
    "- can be executed in most infrastructures<br>\n",
    "- support for container technologies <br>\n",
    "- stable releases\n"
   ]
  },
  {
   "cell_type": "markdown",
   "metadata": {
    "vscode": {
     "languageId": "plaintext"
    }
   },
   "source": [
    "## Let's start using the pipelines"
   ]
  },
  {
   "cell_type": "markdown",
   "metadata": {},
   "source": [
    "**1. Find the nf-core pipeline used to measure differential abundance of genes**"
   ]
  },
  {
   "cell_type": "markdown",
   "metadata": {},
   "source": [
    "differentialabundance"
   ]
  },
  {
   "cell_type": "markdown",
   "metadata": {},
   "source": [
    "**run the pipeline in a cell** "
   ]
  },
  {
   "cell_type": "code",
   "execution_count": 2,
   "metadata": {},
   "outputs": [
    {
     "name": "stdout",
     "output_type": "stream",
     "text": [
      "\u001b[33mNextflow 24.04.4 is available - Please consider updating your version to it\u001b[m\n",
      "N E X T F L O W  ~  version 23.10.1\n",
      "Launching `https://github.com/nf-core/differentialabundance` [distraught_pauling] DSL2 - revision: 3dd360fed0 [master]\n",
      "\u001b[33mWARN: Access to undefined parameter `monochromeLogs` -- Initialise it to a default value eg. `params.monochromeLogs = some_value`\u001b[39m\u001b[K\n",
      "\n",
      "\n",
      "-\u001b[2m----------------------------------------------------\u001b[0m-\n",
      "                                        \u001b[0;32m,--.\u001b[0;30m/\u001b[0;32m,-.\u001b[0m\n",
      "\u001b[0;34m        ___     __   __   __   ___     \u001b[0;32m/,-._.--~'\u001b[0m\n",
      "\u001b[0;34m  |\\ | |__  __ /  ` /  \\ |__) |__         \u001b[0;33m}  {\u001b[0m\n",
      "\u001b[0;34m  | \\| |       \\__, \\__/ |  \\ |___     \u001b[0;32m\\`-._,-`-,\u001b[0m\n",
      "                                        \u001b[0;32m`._,._,'\u001b[0m\n",
      "\u001b[0;35m  nf-core/differentialabundance v1.5.0-g3dd360f\u001b[0m\n",
      "-\u001b[2m----------------------------------------------------\u001b[0m-\n",
      "\u001b[1mCore Nextflow options\u001b[0m\n",
      "  \u001b[0;34mrevision                    : \u001b[0;32mmaster\u001b[0m\n",
      "  \u001b[0;34mrunName                     : \u001b[0;32mdistraught_pauling\u001b[0m\n",
      "  \u001b[0;34mcontainerEngine             : \u001b[0;32mdocker\u001b[0m\n",
      "  \u001b[0;34mcontainer                   : \u001b[0;32m[RMARKDOWNNOTEBOOK:biocontainers/r-shinyngs:1.8.8--r43hdfd78af_0]\u001b[0m\n",
      "  \u001b[0;34mlaunchDir                   : \u001b[0;32m/home/satan/Documents/computational_workflows\u001b[0m\n",
      "  \u001b[0;34mworkDir                     : \u001b[0;32m/home/satan/Documents/computational_workflows/work\u001b[0m\n",
      "  \u001b[0;34mprojectDir                  : \u001b[0;32m/home/satan/.nextflow/assets/nf-core/differentialabundance\u001b[0m\n",
      "  \u001b[0;34muserName                    : \u001b[0;32msatan\u001b[0m\n",
      "  \u001b[0;34mprofile                     : \u001b[0;32mtest,docker\u001b[0m\n",
      "  \u001b[0;34mconfigFiles                 : \u001b[0;32m\u001b[0m\n",
      "\n",
      "\u001b[1mInput/output options\u001b[0m\n",
      "  \u001b[0;34mstudy_name                  : \u001b[0;32mSRP254919\u001b[0m\n",
      "  \u001b[0;34minput                       : \u001b[0;32mhttps://raw.githubusercontent.com/nf-core/test-datasets/modules/data/genomics/mus_musculus/rnaseq_expression/SRP254919.samplesheet.csv\u001b[0m\n",
      "  \u001b[0;34mcontrasts                   : \u001b[0;32mhttps://raw.githubusercontent.com/nf-core/test-datasets/modules/data/genomics/mus_musculus/rnaseq_expression/SRP254919.contrasts.csv\u001b[0m\n",
      "  \u001b[0;34moutdir                      : \u001b[0;32m/home/satan/Documents/computational_workflows/Day1/test3\u001b[0m\n",
      "\n",
      "\u001b[1mAbundance values\u001b[0m\n",
      "  \u001b[0;34mmatrix                      : \u001b[0;32mhttps://raw.githubusercontent.com/nf-core/test-datasets/modules/data/genomics/mus_musculus/rnaseq_expression/SRP254919.salmon.merged.gene_counts.top1000cov.tsv\u001b[0m\n",
      "  \u001b[0;34mtranscript_length_matrix    : \u001b[0;32mhttps://raw.githubusercontent.com/nf-core/test-datasets/modules/data/genomics/mus_musculus/rnaseq_expression/SRP254919.spoofed_lengths.tsv\u001b[0m\n",
      "  \u001b[0;34maffy_cel_files_archive      : \u001b[0;32mnull\u001b[0m\n",
      "  \u001b[0;34mquerygse                    : \u001b[0;32mnull\u001b[0m\n",
      "\n",
      "\u001b[1mObservations (e.g. samples) options\u001b[0m\n",
      "  \u001b[0;34mobservations_name_col       : \u001b[0;32msample\u001b[0m\n",
      "\n",
      "\u001b[1mAffy input options\u001b[0m\n",
      "  \u001b[0;34maffy_cdfname                : \u001b[0;32mnull\u001b[0m\n",
      "\n",
      "\u001b[1mFiltering\u001b[0m\n",
      "  \u001b[0;34mfiltering_min_abundance     : \u001b[0;32m10\u001b[0m\n",
      "\n",
      "\u001b[1mExploratory analysis\u001b[0m\n",
      "  \u001b[0;34mexploratory_main_variable   : \u001b[0;32mcontrasts\u001b[0m\n",
      "  \u001b[0;34mexploratory_log2_assays     : \u001b[0;32mraw,normalised\u001b[0m\n",
      "\n",
      "\u001b[1mDifferential analysis\u001b[0m\n",
      "  \u001b[0;34mdifferential_file_suffix    : \u001b[0;32m.deseq2.results.tsv\u001b[0m\n",
      "\n",
      "\u001b[1mDESeq2 specific options (RNA-seq only)\u001b[0m\n",
      "  \u001b[0;34mdeseq2_vst_nsub             : \u001b[0;32m500\u001b[0m\n",
      "\n",
      "\u001b[1mLimma specific options (microarray only)\u001b[0m\n",
      "  \u001b[0;34mlimma_spacing               : \u001b[0;32mnull\u001b[0m\n",
      "  \u001b[0;34mlimma_block                 : \u001b[0;32mnull\u001b[0m\n",
      "  \u001b[0;34mlimma_correlation           : \u001b[0;32mnull\u001b[0m\n",
      "\n",
      "\u001b[1mGSEA\u001b[0m\n",
      "  \u001b[0;34mgsea_run                    : \u001b[0;32mtrue\u001b[0m\n",
      "\n",
      "\u001b[1mgprofiler2\u001b[0m\n",
      "  \u001b[0;34mgprofiler2_correction_method: \u001b[0;32mgSCS\u001b[0m\n",
      "  \u001b[0;34mgprofiler2_background_file  : \u001b[0;32mauto\u001b[0m\n",
      "\n",
      "\u001b[1mShiny app settings\u001b[0m\n",
      "  \u001b[0;34mshinyngs_shinyapps_account  : \u001b[0;32mnull\u001b[0m\n",
      "  \u001b[0;34mshinyngs_shinyapps_app_name : \u001b[0;32mnull\u001b[0m\n",
      "\n",
      "\u001b[1mOptions related to gene set analysis\u001b[0m\n",
      "  \u001b[0;34mgene_sets_files             : \u001b[0;32mhttps://raw.githubusercontent.com/nf-core/test-datasets/modules/data/genomics/mus_musculus/gene_set_analysis/mh.all.v2022.1.Mm.symbols.gmt\u001b[0m\n",
      "\n",
      "\u001b[1mReporting options\u001b[0m\n",
      "  \u001b[0;34mreport_title                : \u001b[0;32mnull\u001b[0m\n",
      "  \u001b[0;34mreport_author               : \u001b[0;32mnull\u001b[0m\n",
      "  \u001b[0;34mreport_contributors         : \u001b[0;32mJane Doe\n",
      "Director of Institute of Microbiology\n",
      "University of Smallville;John Smith\n",
      "PhD student\n",
      "Institute of Microbiology\n",
      "University of Smallville\u001b[0m\n",
      "  \u001b[0;34mreport_description          : \u001b[0;32mnull\u001b[0m\n",
      "  \u001b[0;34mreport_round_digits         : \u001b[0;32m3\u001b[0m\n",
      "\n",
      "\u001b[1mReference genome options\u001b[0m\n",
      "  \u001b[0;34mgtf                         : \u001b[0;32mhttps://ftp.ensembl.org/pub/release-81/gtf/mus_musculus/Mus_musculus.GRCm38.81.gtf.gz\u001b[0m\n",
      "\n",
      "\u001b[1mInstitutional config options\u001b[0m\n",
      "  \u001b[0;34mconfig_profile_name         : \u001b[0;32mTest profile\u001b[0m\n",
      "  \u001b[0;34mconfig_profile_description  : \u001b[0;32mMinimal test dataset to check pipeline function\u001b[0m\n",
      "\n",
      "\u001b[1mMax job request options\u001b[0m\n",
      "  \u001b[0;34mmax_cpus                    : \u001b[0;32m2\u001b[0m\n",
      "  \u001b[0;34mmax_memory                  : \u001b[0;32m6.GB\u001b[0m\n",
      "  \u001b[0;34mmax_time                    : \u001b[0;32m6.h\u001b[0m\n",
      "\n",
      "!! Only displaying parameters that differ from the pipeline defaults !!\n",
      "-\u001b[2m----------------------------------------------------\u001b[0m-\n",
      "If you use nf-core/differentialabundance for your analysis please cite:\n",
      "\n",
      "* The pipeline\n",
      "  https://doi.org/10.5281/zenodo.7568000\n",
      "\n",
      "* The nf-core framework\n",
      "  https://doi.org/10.1038/s41587-020-0439-x\n",
      "\n",
      "* Software dependencies\n",
      "  https://github.com/nf-core/differentialabundance/blob/master/CITATIONS.md\n",
      "-\u001b[2m----------------------------------------------------\u001b[0m-\n",
      "[-        ] process > NFCORE_DIFFERENTIALABUNDANC... -\u001b[K\n",
      "[-        ] process > NFCORE_DIFFERENTIALABUNDANC... -\u001b[K\n",
      "[-        ] process > NFCORE_DIFFERENTIALABUNDANC... -\u001b[K\n",
      "[-        ] process > NFCORE_DIFFERENTIALABUNDANC... -\u001b[K\n",
      "[-        ] process > NFCORE_DIFFERENTIALABUNDANC... -\u001b[K\n",
      "[-        ] process > NFCORE_DIFFERENTIALABUNDANC... -\u001b[K\n",
      "[-        ] process > NFCORE_DIFFERENTIALABUNDANC... -\u001b[K\n",
      "[-        ] process > NFCORE_DIFFERENTIALABUNDANC... -\u001b[K\n",
      "[-        ] process > NFCORE_DIFFERENTIALABUNDANC... -\u001b[K\n",
      "\u001b[10A\n",
      "[-        ] process > NFCORE_DIFFERENTIALABUNDANC... -\u001b[K\n",
      "[-        ] process > NFCORE_DIFFERENTIALABUNDANC... -\u001b[K\n",
      "[-        ] process > NFCORE_DIFFERENTIALABUNDANC... -\u001b[K\n",
      "[-        ] process > NFCORE_DIFFERENTIALABUNDANC... -\u001b[K\n",
      "[-        ] process > NFCORE_DIFFERENTIALABUNDANC... -\u001b[K\n",
      "[-        ] process > NFCORE_DIFFERENTIALABUNDANC... -\u001b[K\n",
      "[-        ] process > NFCORE_DIFFERENTIALABUNDANC... -\u001b[K\n",
      "[-        ] process > NFCORE_DIFFERENTIALABUNDANC... -\u001b[K\n",
      "[-        ] process > NFCORE_DIFFERENTIALABUNDANC... -\u001b[K\n",
      "[-        ] process > NFCORE_DIFFERENTIALABUNDANC... -\u001b[K\n",
      "[-        ] process > NFCORE_DIFFERENTIALABUNDANC... -\u001b[K\n",
      "[-        ] process > NFCORE_DIFFERENTIALABUNDANC... -\u001b[K\n",
      "[-        ] process > NFCORE_DIFFERENTIALABUNDANC... -\u001b[K\n",
      "[-        ] process > NFCORE_DIFFERENTIALABUNDANC... -\u001b[K\n",
      "[-        ] process > NFCORE_DIFFERENTIALABUNDANC... -\u001b[K\n",
      "[-        ] process > NFCORE_DIFFERENTIALABUNDANC... -\u001b[K\n",
      "\u001b[17A\n",
      "[-        ] process > NFCORE_DIFFERENTIALABUNDANC... -\u001b[K\n",
      "[-        ] process > NFCORE_DIFFERENTIALABUNDANC... -\u001b[K\n",
      "[-        ] process > NFCORE_DIFFERENTIALABUNDANC... -\u001b[K\n",
      "[-        ] process > NFCORE_DIFFERENTIALABUNDANC... -\u001b[K\n",
      "[-        ] process > NFCORE_DIFFERENTIALABUNDANC... -\u001b[K\n",
      "[-        ] process > NFCORE_DIFFERENTIALABUNDANC... -\u001b[K\n",
      "[-        ] process > NFCORE_DIFFERENTIALABUNDANC... -\u001b[K\n",
      "[-        ] process > NFCORE_DIFFERENTIALABUNDANC... -\u001b[K\n",
      "[-        ] process > NFCORE_DIFFERENTIALABUNDANC... -\u001b[K\n",
      "[-        ] process > NFCORE_DIFFERENTIALABUNDANC... -\u001b[K\n",
      "[-        ] process > NFCORE_DIFFERENTIALABUNDANC... -\u001b[K\n",
      "[-        ] process > NFCORE_DIFFERENTIALABUNDANC... -\u001b[K\n",
      "[-        ] process > NFCORE_DIFFERENTIALABUNDANC... -\u001b[K\n",
      "[-        ] process > NFCORE_DIFFERENTIALABUNDANC... -\u001b[K\n",
      "[-        ] process > NFCORE_DIFFERENTIALABUNDANC... -\u001b[K\n",
      "[-        ] process > NFCORE_DIFFERENTIALABUNDANC... -\u001b[K\n",
      "Staging foreign file: https://ftp.ensembl.org/pub/release-81/gtf/mus_musculus/Mus_musculus.GRCm38.81.gtf.gz\u001b[K\n",
      "\u001b[18A\n",
      "executor >  local (1)\u001b[K\n",
      "[71/842fdc] process > NFCORE_DIFFERENTIALABUNDANC... [  0%] 0 of 1\u001b[K\n",
      "[-        ] process > NFCORE_DIFFERENTIALABUNDANC... -\u001b[K\n",
      "[-        ] process > NFCORE_DIFFERENTIALABUNDANC... -\u001b[K\n",
      "[-        ] process > NFCORE_DIFFERENTIALABUNDANC... -\u001b[K\n",
      "[-        ] process > NFCORE_DIFFERENTIALABUNDANC... -\u001b[K\n",
      "[-        ] process > NFCORE_DIFFERENTIALABUNDANC... -\u001b[K\n",
      "[-        ] process > NFCORE_DIFFERENTIALABUNDANC... -\u001b[K\n",
      "[-        ] process > NFCORE_DIFFERENTIALABUNDANC... -\u001b[K\n",
      "[-        ] process > NFCORE_DIFFERENTIALABUNDANC... -\u001b[K\n",
      "[-        ] process > NFCORE_DIFFERENTIALABUNDANC... -\u001b[K\n",
      "[-        ] process > NFCORE_DIFFERENTIALABUNDANC... -\u001b[K\n",
      "[-        ] process > NFCORE_DIFFERENTIALABUNDANC... -\u001b[K\n",
      "[-        ] process > NFCORE_DIFFERENTIALABUNDANC... -\u001b[K\n",
      "[-        ] process > NFCORE_DIFFERENTIALABUNDANC... -\u001b[K\n",
      "[-        ] process > NFCORE_DIFFERENTIALABUNDANC... -\u001b[K\n",
      "[-        ] process > NFCORE_DIFFERENTIALABUNDANC... -\u001b[K\n",
      "Staging foreign file: https://ftp.ensembl.org/pub/release-81/gtf/mus_musculus/Mus_musculus.GRCm38.81.gtf.gz\u001b[K\n",
      "\u001b[19A\n",
      "executor >  local (1)\u001b[K\n",
      "[71/842fdc] process > NFCORE_DIFFERENTIALABUNDANC... [  0%] 0 of 1\u001b[K\n",
      "[-        ] process > NFCORE_DIFFERENTIALABUNDANC... -\u001b[K\n",
      "[-        ] process > NFCORE_DIFFERENTIALABUNDANC... -\u001b[K\n",
      "[-        ] process > NFCORE_DIFFERENTIALABUNDANC... -\u001b[K\n",
      "[-        ] process > NFCORE_DIFFERENTIALABUNDANC... -\u001b[K\n",
      "[-        ] process > NFCORE_DIFFERENTIALABUNDANC... -\u001b[K\n",
      "[-        ] process > NFCORE_DIFFERENTIALABUNDANC... -\u001b[K\n",
      "[-        ] process > NFCORE_DIFFERENTIALABUNDANC... -\u001b[K\n",
      "[-        ] process > NFCORE_DIFFERENTIALABUNDANC... -\u001b[K\n",
      "[-        ] process > NFCORE_DIFFERENTIALABUNDANC... -\u001b[K\n",
      "[-        ] process > NFCORE_DIFFERENTIALABUNDANC... -\u001b[K\n",
      "[-        ] process > NFCORE_DIFFERENTIALABUNDANC... -\u001b[K\n",
      "[-        ] process > NFCORE_DIFFERENTIALABUNDANC... -\u001b[K\n",
      "[-        ] process > NFCORE_DIFFERENTIALABUNDANC... -\u001b[K\n",
      "[-        ] process > NFCORE_DIFFERENTIALABUNDANC... -\u001b[K\n",
      "[-        ] process > NFCORE_DIFFERENTIALABUNDANC... -\u001b[K\n",
      "Staging foreign file: https://ftp.ensembl.org/pub/release-81/gtf/mus_musculus/Mus_musculus.GRCm38.81.gtf.gz\u001b[K\n",
      "\u001b[31mERROR ~ Error executing process > 'NFCORE_DIFFERENTIALABUNDANCE:DIFFERENTIALABUNDANCE:GUNZIP_GTF (Mus_musculus.GRCm38.81.gtf.gz)'\u001b[K\n",
      "\u001b[K\n",
      "Caused by:\u001b[K\n",
      "  Process `NFCORE_DIFFERENTIALABUNDANCE:DIFFERENTIALABUNDANCE:GUNZIP_GTF (Mus_musculus.GRCm38.81.gtf.gz)` terminated with an error exit status (126)\u001b[K\n",
      "\u001b[K\n",
      "Command executed:\u001b[K\n",
      "\u001b[K\n",
      "  # Not calling gunzip itself because it creates files\u001b[K\n",
      "  # with the original group ownership rather than the\u001b[K\n",
      "  # default one for that user / the work directory\u001b[K\n",
      "  gzip \\\u001b[K\n",
      "      -cd \\\u001b[K\n",
      "       \\\u001b[K\n",
      "      Mus_musculus.GRCm38.81.gtf.gz \\\u001b[K\n",
      "      > Mus_musculus.GRCm38.81.gtf\u001b[K\n",
      "  \u001b[K\n",
      "  cat <<-END_VERSIONS > versions.yml\u001b[K\n",
      "  \"NFCORE_DIFFERENTIALABUNDANCE:DIFFERENTIALABUNDANCE:GUNZIP_GTF\":\u001b[K\n",
      "      gunzip: $(echo $(gunzip --version 2>&1) | sed 's/^.*(gzip) //; s/ Copyright.*$//')\u001b[K\n",
      "  END_VERSIONS\u001b[K\n",
      "\u001b[K\n",
      "Command exit status:\u001b[K\n",
      "  126\u001b[K\n",
      "\u001b[K\n",
      "Command output:\u001b[K\n",
      "  (empty)\u001b[K\n",
      "\u001b[K\n",
      "Command error:\u001b[K\n",
      "  docker: permission denied while trying to connect to the Docker daemon socket at unix:///var/run/docker.sock: Head \"http://%2Fvar%2Frun%2Fdocker.sock/_ping\": dial unix /var/run/docker.sock: connect: permission denied.\u001b[K\n",
      "  See 'docker run --help'.\u001b[K\n",
      "\u001b[K\n",
      "Work dir:\u001b[K\n",
      "  /home/satan/Documents/computational_workflows/work/71/842fdc21981f9cb0b6101979d904f9\u001b[K\n",
      "\u001b[K\n",
      "Tip: view the complete command output by changing to the process work dir and entering the command `cat .command.out`\u001b[K\n",
      "\u001b[K\n",
      " -- Check '.nextflow.log' file for details\u001b[39m\u001b[K\n",
      "\u001b[56A\n",
      "executor >  local (1)\u001b[K\n",
      "[71/842fdc] process > NFCORE_DIFFERENTIALABUNDANC... [100%] 1 of 1, failed: 1 ✘\u001b[K\n",
      "[-        ] process > NFCORE_DIFFERENTIALABUNDANC... -\u001b[K\n",
      "[-        ] process > NFCORE_DIFFERENTIALABUNDANC... -\u001b[K\n",
      "[-        ] process > NFCORE_DIFFERENTIALABUNDANC... -\u001b[K\n",
      "[-        ] process > NFCORE_DIFFERENTIALABUNDANC... -\u001b[K\n",
      "[-        ] process > NFCORE_DIFFERENTIALABUNDANC... -\u001b[K\n",
      "[-        ] process > NFCORE_DIFFERENTIALABUNDANC... -\u001b[K\n",
      "[-        ] process > NFCORE_DIFFERENTIALABUNDANC... -\u001b[K\n",
      "[-        ] process > NFCORE_DIFFERENTIALABUNDANC... -\u001b[K\n",
      "[-        ] process > NFCORE_DIFFERENTIALABUNDANC... -\u001b[K\n",
      "[-        ] process > NFCORE_DIFFERENTIALABUNDANC... -\u001b[K\n",
      "[-        ] process > NFCORE_DIFFERENTIALABUNDANC... -\u001b[K\n",
      "[-        ] process > NFCORE_DIFFERENTIALABUNDANC... -\u001b[K\n",
      "[-        ] process > NFCORE_DIFFERENTIALABUNDANC... -\u001b[K\n",
      "[-        ] process > NFCORE_DIFFERENTIALABUNDANC... -\u001b[K\n",
      "[-        ] process > NFCORE_DIFFERENTIALABUNDANC... -\u001b[K\n",
      "Staging foreign file: https://ftp.ensembl.org/pub/release-81/gtf/mus_musculus/Mus_musculus.GRCm38.81.gtf.gz\u001b[K\n",
      "Execution cancelled -- Finishing pending tasks before exit\u001b[K\n",
      "\u001b[31mERROR ~ Error executing process > 'NFCORE_DIFFERENTIALABUNDANCE:DIFFERENTIALABUNDANCE:GUNZIP_GTF (Mus_musculus.GRCm38.81.gtf.gz)'\u001b[K\n",
      "\u001b[K\n",
      "Caused by:\u001b[K\n",
      "  Process `NFCORE_DIFFERENTIALABUNDANCE:DIFFERENTIALABUNDANCE:GUNZIP_GTF (Mus_musculus.GRCm38.81.gtf.gz)` terminated with an error exit status (126)\u001b[K\n",
      "\u001b[K\n",
      "Command executed:\u001b[K\n",
      "\u001b[K\n",
      "  # Not calling gunzip itself because it creates files\u001b[K\n",
      "  # with the original group ownership rather than the\u001b[K\n",
      "  # default one for that user / the work directory\u001b[K\n",
      "  gzip \\\u001b[K\n",
      "      -cd \\\u001b[K\n",
      "       \\\u001b[K\n",
      "      Mus_musculus.GRCm38.81.gtf.gz \\\u001b[K\n",
      "      > Mus_musculus.GRCm38.81.gtf\u001b[K\n",
      "  \u001b[K\n",
      "  cat <<-END_VERSIONS > versions.yml\u001b[K\n",
      "  \"NFCORE_DIFFERENTIALABUNDANCE:DIFFERENTIALABUNDANCE:GUNZIP_GTF\":\u001b[K\n",
      "      gunzip: $(echo $(gunzip --version 2>&1) | sed 's/^.*(gzip) //; s/ Copyright.*$//')\u001b[K\n",
      "  END_VERSIONS\u001b[K\n",
      "\u001b[K\n",
      "Command exit status:\u001b[K\n",
      "  126\u001b[K\n",
      "\u001b[K\n",
      "Command output:\u001b[K\n",
      "  (empty)\u001b[K\n",
      "\u001b[K\n",
      "Command error:\u001b[K\n",
      "  docker: permission denied while trying to connect to the Docker daemon socket at unix:///var/run/docker.sock: Head \"http://%2Fvar%2Frun%2Fdocker.sock/_ping\": dial unix /var/run/docker.sock: connect: permission denied.\u001b[K\n",
      "  See 'docker run --help'.\u001b[K\n",
      "\u001b[K\n",
      "Work dir:\u001b[K\n",
      "  /home/satan/Documents/computational_workflows/work/71/842fdc21981f9cb0b6101979d904f9\u001b[K\n",
      "\u001b[K\n",
      "Tip: view the complete command output by changing to the process work dir and entering the command `cat .command.out`\u001b[K\n",
      "\u001b[K\n",
      " -- Check '.nextflow.log' file for details\u001b[39m\u001b[K\n",
      "\u001b[57A\n",
      "executor >  local (1)\u001b[K\n",
      "[71/842fdc] process > NFCORE_DIFFERENTIALABUNDANC... [100%] 1 of 1, failed: 1 ✘\u001b[K\n",
      "[-        ] process > NFCORE_DIFFERENTIALABUNDANC... -\u001b[K\n",
      "[-        ] process > NFCORE_DIFFERENTIALABUNDANC... -\u001b[K\n",
      "[-        ] process > NFCORE_DIFFERENTIALABUNDANC... -\u001b[K\n",
      "[-        ] process > NFCORE_DIFFERENTIALABUNDANC... -\u001b[K\n",
      "[-        ] process > NFCORE_DIFFERENTIALABUNDANC... -\u001b[K\n",
      "[-        ] process > NFCORE_DIFFERENTIALABUNDANC... -\u001b[K\n",
      "[-        ] process > NFCORE_DIFFERENTIALABUNDANC... -\u001b[K\n",
      "[-        ] process > NFCORE_DIFFERENTIALABUNDANC... -\u001b[K\n",
      "[-        ] process > NFCORE_DIFFERENTIALABUNDANC... -\u001b[K\n",
      "[-        ] process > NFCORE_DIFFERENTIALABUNDANC... -\u001b[K\n",
      "[-        ] process > NFCORE_DIFFERENTIALABUNDANC... -\u001b[K\n",
      "[-        ] process > NFCORE_DIFFERENTIALABUNDANC... -\u001b[K\n",
      "[-        ] process > NFCORE_DIFFERENTIALABUNDANC... -\u001b[K\n",
      "[-        ] process > NFCORE_DIFFERENTIALABUNDANC... -\u001b[K\n",
      "[-        ] process > NFCORE_DIFFERENTIALABUNDANC... -\u001b[K\n",
      "Staging foreign file: https://ftp.ensembl.org/pub/release-81/gtf/mus_musculus/Mus_musculus.GRCm38.81.gtf.gz\u001b[K\n",
      "Execution cancelled -- Finishing pending tasks before exit\u001b[K\n",
      "\u001b[31mERROR ~ Error executing process > 'NFCORE_DIFFERENTIALABUNDANCE:DIFFERENTIALABUNDANCE:GUNZIP_GTF (Mus_musculus.GRCm38.81.gtf.gz)'\u001b[K\n",
      "\u001b[K\n",
      "Caused by:\u001b[K\n",
      "  Process `NFCORE_DIFFERENTIALABUNDANCE:DIFFERENTIALABUNDANCE:GUNZIP_GTF (Mus_musculus.GRCm38.81.gtf.gz)` terminated with an error exit status (126)\u001b[K\n",
      "\u001b[K\n",
      "Command executed:\u001b[K\n",
      "\u001b[K\n",
      "  # Not calling gunzip itself because it creates files\u001b[K\n",
      "  # with the original group ownership rather than the\u001b[K\n",
      "  # default one for that user / the work directory\u001b[K\n",
      "  gzip \\\u001b[K\n",
      "      -cd \\\u001b[K\n",
      "       \\\u001b[K\n",
      "      Mus_musculus.GRCm38.81.gtf.gz \\\u001b[K\n",
      "      > Mus_musculus.GRCm38.81.gtf\u001b[K\n",
      "  \u001b[K\n",
      "  cat <<-END_VERSIONS > versions.yml\u001b[K\n",
      "  \"NFCORE_DIFFERENTIALABUNDANCE:DIFFERENTIALABUNDANCE:GUNZIP_GTF\":\u001b[K\n",
      "      gunzip: $(echo $(gunzip --version 2>&1) | sed 's/^.*(gzip) //; s/ Copyright.*$//')\u001b[K\n",
      "  END_VERSIONS\u001b[K\n",
      "\u001b[K\n",
      "Command exit status:\u001b[K\n",
      "  126\u001b[K\n",
      "\u001b[K\n",
      "Command output:\u001b[K\n",
      "  (empty)\u001b[K\n",
      "\u001b[K\n",
      "Command error:\u001b[K\n",
      "  docker: permission denied while trying to connect to the Docker daemon socket at unix:///var/run/docker.sock: Head \"http://%2Fvar%2Frun%2Fdocker.sock/_ping\": dial unix /var/run/docker.sock: connect: permission denied.\u001b[K\n",
      "  See 'docker run --help'.\u001b[K\n",
      "\u001b[K\n",
      "Work dir:\u001b[K\n",
      "  /home/satan/Documents/computational_workflows/work/71/842fdc21981f9cb0b6101979d904f9\u001b[K\n",
      "\u001b[K\n",
      "Tip: view the complete command output by changing to the process work dir and entering the command `cat .command.out`\u001b[K\n",
      "\u001b[K\n",
      " -- Check '.nextflow.log' file for details\u001b[39m\u001b[K\n",
      "\n"
     ]
    }
   ],
   "source": [
    "# run the pipeline in the test profile using docker containers\n",
    "# make sure to specify the version you want to use (use the latest one)\n",
    "\n",
    "!nextflow run nf-core/differentialabundance -profile test,docker --outdir /home/satan/Documents/computational_workflows/Day1/test4_terminal\n"
   ]
  },
  {
   "cell_type": "markdown",
   "metadata": {},
   "source": [
    "due to permission issues, all other commands were succesfully run on the command line. The above example has been included as an example."
   ]
  },
  {
   "cell_type": "markdown",
   "metadata": {},
   "source": [
    "**repeat the run. What did change?**"
   ]
  },
  {
   "cell_type": "code",
   "execution_count": null,
   "metadata": {},
   "outputs": [],
   "source": [
    "\n",
    "!nextflow run nf-core/differentialabundance -profile test,docker --outdir /home/satan/Documents/computational_workflows/Day1/test5_terminal"
   ]
  },
  {
   "cell_type": "markdown",
   "metadata": {},
   "source": [
    "\n",
    "\n",
    "The results were the same, but execution time and usage of RAM/CPU differed.\n",
    "The second run was faster since the cached files were used."
   ]
  },
  {
   "cell_type": "markdown",
   "metadata": {},
   "source": [
    "**now set -resume to the command. What did change?**"
   ]
  },
  {
   "cell_type": "code",
   "execution_count": null,
   "metadata": {},
   "outputs": [],
   "source": [
    "!nextflow run nf-core/differentialabundance -profile test,docker --outdir /home/satan/Documents/computational_workflows/Day1/test6_terminal -resume"
   ]
  },
  {
   "cell_type": "markdown",
   "metadata": {},
   "source": [
    "The results were the same, but execution time and usage of RAM/CPU differed.\n",
    "The \"resume\" run was much faster."
   ]
  },
  {
   "cell_type": "markdown",
   "metadata": {},
   "source": [
    "**Check out the current directory. Next to the outdir you specified, what else has changed?**"
   ]
  },
  {
   "cell_type": "markdown",
   "metadata": {},
   "source": [
    "In the working direcotry, multiple log files have been created.\n",
    "Additionally in .nextflow/cache the cached files are saved.\n",
    "A work directory has been created that contains all (intermediary) results"
   ]
  },
  {
   "cell_type": "markdown",
   "metadata": {},
   "source": [
    "**delete the work directory and run the pipeline again using -resume. What did change?**"
   ]
  },
  {
   "cell_type": "code",
   "execution_count": null,
   "metadata": {},
   "outputs": [],
   "source": [
    "!nextflow run nf-core/differentialabundance -profile test,docker --outdir /home/satan/Documents/computational_workflows/Day1/test7_terminal -resume"
   ]
  },
  {
   "cell_type": "markdown",
   "metadata": {},
   "source": [
    "**What changed?**"
   ]
  },
  {
   "cell_type": "markdown",
   "metadata": {},
   "source": [
    "The warning\n",
    "\n",
    "```x\n",
    "WARN: It appears you have never run this project before -- Option `-resume` is ignored\n",
    "```\n",
    "\n",
    "appears.\n",
    "\n",
    "Cached files cannot be detected (as they have been deleted) and the run takes longer again. (Same as the second run)"
   ]
  },
  {
   "cell_type": "markdown",
   "metadata": {},
   "source": [
    "## Lets look at the results"
   ]
  },
  {
   "cell_type": "markdown",
   "metadata": {},
   "source": [
    "### What is differential abundance analysis?"
   ]
  },
  {
   "cell_type": "markdown",
   "metadata": {},
   "source": [
    "Differential Abundance Analysis is a method used to identify differences in the abundances of individual taxa between two or more groups."
   ]
  },
  {
   "cell_type": "markdown",
   "metadata": {},
   "source": [
    "**Give the most important plots from the report:**"
   ]
  },
  {
   "cell_type": "markdown",
   "metadata": {},
   "source": [
    "![alt text](data/boxplot.png \"Title\")"
   ]
  },
  {
   "cell_type": "markdown",
   "metadata": {},
   "source": [
    "![alt text](data/density.png \"Title\")"
   ]
  }
 ],
 "metadata": {
  "kernelspec": {
   "display_name": "comp_work_kernel",
   "language": "python",
   "name": "comp_work_kernel"
  },
  "language_info": {
   "codemirror_mode": {
    "name": "ipython",
    "version": 3
   },
   "file_extension": ".py",
   "mimetype": "text/x-python",
   "name": "python",
   "nbconvert_exporter": "python",
   "pygments_lexer": "ipython3",
   "version": "3.10.14"
  }
 },
 "nbformat": 4,
 "nbformat_minor": 2
}
