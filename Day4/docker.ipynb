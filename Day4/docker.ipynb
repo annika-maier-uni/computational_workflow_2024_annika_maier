{
 "cells": [
  {
   "cell_type": "markdown",
   "metadata": {},
   "source": [
    "# A short introduction to containerized software\n",
    "\n",
    "**After spending using nf-core pipelines to answer bioinformatic questions, we will focus on the processes that lie behind these pipelines now.**\n",
    "\n",
    "**Today, we will focus on containerization, namely via Docker.** \n",
    "\n"
   ]
  },
  {
   "cell_type": "markdown",
   "metadata": {},
   "source": [
    "**1. Check if Docker is installed.**"
   ]
  },
  {
   "cell_type": "code",
   "execution_count": 1,
   "metadata": {},
   "outputs": [
    {
     "name": "stdout",
     "output_type": "stream",
     "text": [
      "Client: Docker Engine - Community\n",
      " Version:    27.3.1\n",
      " Context:    default\n",
      " Debug Mode: false\n",
      " Plugins:\n",
      "  buildx: Docker Buildx (Docker Inc.)\n",
      "    Version:  v0.17.1\n",
      "    Path:     /usr/libexec/docker/cli-plugins/docker-buildx\n",
      "  compose: Docker Compose (Docker Inc.)\n",
      "    Version:  v2.29.7\n",
      "    Path:     /usr/libexec/docker/cli-plugins/docker-compose\n",
      "\n",
      "Server:\n",
      " Containers: 1\n",
      "  Running: 0\n",
      "  Paused: 0\n",
      "  Stopped: 1\n",
      " Images: 12\n",
      " Server Version: 27.3.1\n",
      " Storage Driver: overlay2\n",
      "  Backing Filesystem: extfs\n",
      "  Supports d_type: true\n",
      "  Using metacopy: false\n",
      "  Native Overlay Diff: true\n",
      "  userxattr: false\n",
      " Logging Driver: json-file\n",
      " Cgroup Driver: systemd\n",
      " Cgroup Version: 2\n",
      " Plugins:\n",
      "  Volume: local\n",
      "  Network: bridge host ipvlan macvlan null overlay\n",
      "  Log: awslogs fluentd gcplogs gelf journald json-file local splunk syslog\n",
      " Swarm: inactive\n",
      " Runtimes: io.containerd.runc.v2 runc\n",
      " Default Runtime: runc\n",
      " Init Binary: docker-init\n",
      " containerd version: 7f7fdf5fed64eb6a7caf99b3e12efcf9d60e311c\n",
      " runc version: v1.1.14-0-g2c9f560\n",
      " init version: de40ad0\n",
      " Security Options:\n",
      "  apparmor\n",
      "  seccomp\n",
      "   Profile: builtin\n",
      "  cgroupns\n",
      " Kernel Version: 6.8.0-45-generic\n",
      " Operating System: Ubuntu 22.04.5 LTS\n",
      " OSType: linux\n",
      " Architecture: x86_64\n",
      " CPUs: 8\n",
      " Total Memory: 15.37GiB\n",
      " Name: satan-ThinkPad-T480\n",
      " ID: 4057615f-0769-474f-bff5-54965c2c9356\n",
      " Docker Root Dir: /var/lib/docker\n",
      " Debug Mode: false\n",
      " Experimental: false\n",
      " Insecure Registries:\n",
      "  127.0.0.0/8\n",
      " Live Restore Enabled: false\n",
      "\n",
      "WARNING: bridge-nf-call-iptables is disabled\n",
      "WARNING: bridge-nf-call-ip6tables is disabled\n"
     ]
    }
   ],
   "source": [
    "!docker info"
   ]
  },
  {
   "cell_type": "markdown",
   "metadata": {},
   "source": [
    "Version Version: 27.3.1 is installed"
   ]
  },
  {
   "cell_type": "markdown",
   "metadata": {},
   "source": [
    "### What is a container?"
   ]
  },
  {
   "cell_type": "markdown",
   "metadata": {},
   "source": [
    "\"A container is a standard unit of software that packages up code and all its dependencies so the application runs quickly and reliably from one computing environment to another. A Docker container image is a lightweight, standalone, executable package of software that includes everything needed to run an application: code, runtime, system tools, system libraries and settings.\"\n",
    "\n",
    "https://www.docker.com/resources/what-container/"
   ]
  },
  {
   "cell_type": "markdown",
   "metadata": {},
   "source": [
    "### Why do we use containers?"
   ]
  },
  {
   "cell_type": "markdown",
   "metadata": {},
   "source": [
    "They are portable and consistent, meaning that (research) results can be replicated.\n",
    "They are less resource intensive than full virtual machines.\n",
    "\n",
    "https://www.docker.com/resources/what-container/"
   ]
  },
  {
   "cell_type": "markdown",
   "metadata": {},
   "source": [
    "### What is a docker image?"
   ]
  },
  {
   "cell_type": "markdown",
   "metadata": {},
   "source": [
    "\"Docker images are the basis of containers. An Image is an ordered collection of root filesystem changes and the corresponding execution parameters for use within a container runtime. An image typically contains a union of layered filesystems stacked on top of each other. An image does not have state and it never changes.\"\n",
    "\n",
    "https://docs.docker.com/reference/glossary/#image\n",
    "\n",
    "It is a stanfalone executable file wiht instructions to build a container"
   ]
  },
  {
   "cell_type": "markdown",
   "metadata": {},
   "source": [
    "### Let's run our first docker image:"
   ]
  },
  {
   "cell_type": "markdown",
   "metadata": {},
   "source": [
    "### Login to docker"
   ]
  },
  {
   "cell_type": "code",
   "execution_count": null,
   "metadata": {
    "vscode": {
     "languageId": "shellscript"
    }
   },
   "outputs": [],
   "source": [
    "!docker login\n",
    "\n",
    "# the rest had to be done via a browser"
   ]
  },
  {
   "cell_type": "markdown",
   "metadata": {},
   "source": [
    "### Run your first docker container"
   ]
  },
  {
   "cell_type": "code",
   "execution_count": null,
   "metadata": {
    "vscode": {
     "languageId": "shellscript"
    }
   },
   "outputs": [],
   "source": [
    "!docker run hello-world"
   ]
  },
  {
   "cell_type": "markdown",
   "metadata": {},
   "source": [
    "Hello from Docker!\n",
    "This message shows that your installation appears to be working correctly.\n",
    "\n",
    "To generate this message, Docker took the following steps:\n",
    " 1. The Docker client contacted the Docker daemon.\n",
    " 2. The Docker daemon pulled the \"hello-world\" image from the Docker Hub.\n",
    "    (amd64)\n",
    " 3. The Docker daemon created a new container from that image which runs the\n",
    "    executable that produces the output you are currently reading.\n",
    " 4. The Docker daemon streamed that output to the Docker client, which sent it\n",
    "    to your terminal.\n",
    "\n",
    "To try something more ambitious, you can run an Ubuntu container with:\n",
    " $ docker run -it ubuntu bash\n",
    "\n",
    "Share images, automate workflows, and more with a free Docker ID:\n",
    " https://hub.docker.com/\n",
    "\n",
    "For more examples and ideas, visit:\n",
    " https://docs.docker.com/get-started/\n",
    "\n"
   ]
  },
  {
   "cell_type": "markdown",
   "metadata": {},
   "source": [
    "### Find the container ID"
   ]
  },
  {
   "cell_type": "code",
   "execution_count": 3,
   "metadata": {
    "vscode": {
     "languageId": "shellscript"
    }
   },
   "outputs": [
    {
     "name": "stdout",
     "output_type": "stream",
     "text": [
      "{.Id}\n"
     ]
    }
   ],
   "source": [
    " docker ps -a"
   ]
  },
  {
   "cell_type": "code",
   "execution_count": null,
   "metadata": {
    "vscode": {
     "languageId": "html"
    }
   },
   "outputs": [],
   "source": [
    "CONTAINER ID   IMAGE         COMMAND    CREATED         STATUS                     PORTS     NAMES\n",
    "cca684428911   hello-world   \"/hello\"   2 minutes ago   Exited (0) 2 minutes ago             great_cannon\n",
    "08caf040c0e5   hello-world   \"/hello\"   8 minutes ago   Exited (0) 8 minutes ago             gifted_poitras\n",
    "1d44e9994ce9   hello-world   \"/hello\"   4 days ago      Exited (0) 4 days ago                loving_shannon\n"
   ]
  },
  {
   "cell_type": "markdown",
   "metadata": {},
   "source": [
    "### Delete the container again, give prove its deleted"
   ]
  },
  {
   "cell_type": "code",
   "execution_count": null,
   "metadata": {
    "vscode": {
     "languageId": "shellscript"
    }
   },
   "outputs": [],
   "source": [
    "!docker rm cca684428911 \n",
    "!docker rm 08caf040c0e5 \n",
    "!docker rm 1d44e9994ce9\n",
    "\n",
    "!docker ps -a"
   ]
  },
  {
   "cell_type": "code",
   "execution_count": null,
   "metadata": {},
   "outputs": [],
   "source": [
    "CONTAINER ID   IMAGE     COMMAND   CREATED   STATUS    PORTS     NAMES"
   ]
  },
  {
   "cell_type": "markdown",
   "metadata": {},
   "source": [
    "### FASTQC is a very useful tool as you've learned last week. Let's try and run it from command line\n",
    "\n",
    "**Link to the software: https://www.bioinformatics.babraham.ac.uk/projects/fastqc/**"
   ]
  },
  {
   "cell_type": "markdown",
   "metadata": {},
   "source": [
    "**Please describe the steps you took to download and run the software for the example fastq file from last week below:**"
   ]
  },
  {
   "cell_type": "markdown",
   "metadata": {},
   "source": [
    "1. I tried to find a conda install. https://anaconda.org/bioconda/fastqc\n",
    "2. I tried to install the conda package in a new environment\n",
    "    - cona create -n fastqc\n",
    "    - conda activate fastqc\n",
    "    - conda install bioconda::fastqc\n",
    "    - this would install version  fastqc-0.12.1  \n",
    "    - this seems to be the newest stable version, as it is the same mentioned ont the official website\n",
    "    - the package has been installed\n",
    "3. I looked up the correct command to run fastqc\n",
    "    - fastqc --help    \n",
    "4. I ran it on one file\n",
    "    - fastqc SRX19144486_SRR23195516_1.fastq.gz\n",
    "    - This succesfully created a fastqc report     "
   ]
  },
  {
   "cell_type": "markdown",
   "metadata": {},
   "source": [
    "### Very well, now let's try to make use of its docker container\n",
    "\n",
    "**1. create a container holding fastqc using seqera containers (https://seqera.io/containers/)**<br>\n",
    "**2. use the container to generate a fastqc html of the example fastq file**"
   ]
  },
  {
   "cell_type": "code",
   "execution_count": null,
   "metadata": {
    "vscode": {
     "languageId": "shellscript"
    }
   },
   "outputs": [],
   "source": [
    "# pull the container\n",
    "docker pull community.wave.seqera.io/library/fastqc:0.12.1--5cfd0f3cb6760c42"
   ]
  },
  {
   "cell_type": "code",
   "execution_count": null,
   "metadata": {
    "vscode": {
     "languageId": "html"
    }
   },
   "outputs": [],
   "source": [
    "0.12.1--5cfd0f3cb6760c42: Pulling from library/fastqc\n",
    "6360b3717211: Pull complete \n",
    "2ec3f7ad9b3c: Pull complete \n",
    "7716ca300600: Pull complete \n",
    "4f4fb700ef54: Pull complete \n",
    "8c61d418774c: Pull complete \n",
    "03dae77ff45c: Pull complete \n",
    "aab7f787139d: Pull complete \n",
    "837d55536720: Pull complete \n",
    "897362c12ca7: Pull complete \n",
    "3893cbe24e91: Pull complete \n",
    "d1b61e94977b: Pull complete \n",
    "5e39529b9f20: Pull complete \n",
    "92b86e1d0b98: Pull complete \n",
    "Digest: sha256:0c524d3abe2642c09c5852299bd79bf78ba0ee2ef040473324caab0826f64d44\n",
    "Status: Downloaded newer image for community.wave.seqera.io/library/fastqc:0.12.1--5cfd0f3cb6760c42\n",
    "community.wave.seqera.io/library/fastqc:0.12.1--5cfd0f3cb6760c42\n"
   ]
  },
  {
   "cell_type": "code",
   "execution_count": null,
   "metadata": {
    "vscode": {
     "languageId": "shellscript"
    }
   },
   "outputs": [],
   "source": [
    "# run the container and save the results to a new \"fastqc_results\" directory\n",
    "\n",
    "# and change permissions\n",
    "!chmod -R 777 $(pwd)\n",
    "# create directory\n",
    "!mkdir $(pwd)/fastqc_results\n",
    "# mount container so docker can access it and run\n",
    "!docker run -v $(pwd):/fastqc_docker community.wave.seqera.io/library/fastqc:0.12.1--5cfd0f3cb6760c42 fastqc /fastqc_docker/SRX19144486_SRR23195516_1.fastq.gz -o /fastqc_docker/fastqc_results\n"
   ]
  },
  {
   "cell_type": "markdown",
   "metadata": {},
   "source": [
    "### Now that you know how to use a docker container, which approach between running everything manually and using docker was easier and which approach will be easier in the future?"
   ]
  },
  {
   "cell_type": "markdown",
   "metadata": {},
   "source": [
    "Docker is easier for large projects like nextflow pipelines. For small projects I will still use the manual method."
   ]
  },
  {
   "cell_type": "markdown",
   "metadata": {},
   "source": [
    "### What would you say, which approach is more reproducible?"
   ]
  },
  {
   "cell_type": "markdown",
   "metadata": {},
   "source": [
    "Docker"
   ]
  },
  {
   "cell_type": "markdown",
   "metadata": {},
   "source": [
    "### Compare the file to last weeks fastqc results, are they identical?\n",
    "### Is the fastqc version identical?"
   ]
  },
  {
   "cell_type": "markdown",
   "metadata": {},
   "source": [
    "The file from last week would be _SNI_oxy_3_1.gz_ <br>\n",
    "They look identical <br><br>\n",
    "\n",
    "Both versions are  0.12.1\n"
   ]
  },
  {
   "cell_type": "markdown",
   "metadata": {},
   "source": [
    "## Dockerfiles\n",
    "\n",
    "**We now used Docker containers and images directly to boost our research.** \n",
    "\n",
    "**Let's create our own toy Dockerfile including the \"cowsay\" tool (https://en.wikipedia.org/wiki/Cowsay)**\n",
    "\n",
    "**Hints:**\n",
    "**1. Docker is Linux, so you need to know the apt-get command to install \"cowsay\"**"
   ]
  },
  {
   "cell_type": "code",
   "execution_count": null,
   "metadata": {},
   "outputs": [],
   "source": [
    "# open the file \"my_dockerfile\" in a text editor\n",
    "\n",
    "# this is the base image the container is built on. In this case, it is a slim version of the Debian operating system.\n",
    "FROM debian:bullseye-slim\n",
    "\n",
    "# these are the labels that are added to the image. They are metadata that can be used to identify the author of the image.\n",
    "LABEL image.author.name \"am\"\n",
    "LABEL image.author.email \"cows_are_cool@gmail.com\"\n",
    "\n",
    "# !TODO: add the command that is run to install the dependencies for the image. In this case, it should be updating the package list and installing curl and cowsay.\n",
    "\n",
    "# Install the application dependencies\n",
    "\n",
    "RUN apt-get curl\n",
    "RUN apt-get cowsay\n",
    "RUN apt update\n",
    "RUN apt upgrade\n",
    "\n",
    "\n",
    "# !TODO: add an ENV line to set environmental variables. In this case, it should set the PATH variable to /usr/games. Explain in the notebook why this is necessary.\n",
    "\n",
    "ENV /usr/games"
   ]
  },
  {
   "cell_type": "markdown",
   "metadata": {},
   "source": [
    "# Explain the RUN and ENV lines you added to the file. add an ENV line to set environmental variables. In this case, it should set the PATH variable to /usr/games. Explain in the notebook why this is necessary.\n",
    "\n",
    "Environment variables can be used to use different environments. It makes it easier to deploy, make changes, and share the environment for deployment.\n",
    "\n",
    "\n",
    "# Install the application dependencies\n",
    "RUN apt-get update && \\                  # update package list\n",
    "    apt-get install -y curl cowsay && \\  # install curl and cowsay. Use -y to automatically accept prompts \n",
    "    apt-get upgrade -y                   # upgrade packages\n",
    "\n",
    "\n",
    "\n",
    "# !TODO: add an ENV line to set environmental variables. In this case, it should set the PATH variable to /usr/games. Explain in the notebook why this is necessary.\n",
    "          \n",
    "ENV PATH=\"$PATH:/usr/games\" # as required by the task\n"
   ]
  },
  {
   "cell_type": "code",
   "execution_count": null,
   "metadata": {
    "vscode": {
     "languageId": "shellscript"
    }
   },
   "outputs": [],
   "source": [
    "# build the docker image\n",
    "\n",
    "# create a fresh directory for building the image\n",
    "!mkdir docker_build\n",
    "!mv my_dockerfile docker_build/\n",
    "!cd docker_build/\n",
    "\n",
    "#build\n",
    "docker build -f my_dockerfile -t cowsay_image .\n"
   ]
  },
  {
   "cell_type": "code",
   "execution_count": null,
   "metadata": {
    "vscode": {
     "languageId": "html"
    }
   },
   "outputs": [],
   "source": [
    "\n",
    "[+] Building 21.1s (6/6) FINISHED                                                                                                                    docker:default\n",
    " => [internal] load build definition from my_dockerfile                                                                                                        0.1s\n",
    " => => transferring dockerfile: 881B                                                                                                                           0.0s\n",
    " => [internal] load metadata for docker.io/library/debian:bullseye-slim                                                                                        1.8s\n",
    " => [internal] load .dockerignore                                                                                                                              0.0s\n",
    " => => transferring context: 2B                                                                                                                                0.0s\n",
    " => [1/2] FROM docker.io/library/debian:bullseye-slim@sha256:3f9e53602537cc817d96f0ebb131a39bdb16fa8b422137659a9a597e7e3853c1                                  5.7s\n",
    " => => resolve docker.io/library/debian:bullseye-slim@sha256:3f9e53602537cc817d96f0ebb131a39bdb16fa8b422137659a9a597e7e3853c1                                  0.0s\n",
    " => => sha256:fa0650a893c25858ebb09921bc9b7824594e23405374a6adbcd3b4e27e28e3cf 31.43MB / 31.43MB                                                               4.4s\n",
    " => => sha256:3f9e53602537cc817d96f0ebb131a39bdb16fa8b422137659a9a597e7e3853c1 984B / 984B                                                                     0.0s\n",
    " => => sha256:d64241f857a1d4515f831751dad27fe6c974fe73d58b909936fefff6914ad3b9 529B / 529B                                                                     0.0s\n",
    " => => sha256:7f0f93ec8f75ec8fa17871b7488bb80619d8ee06a0d6c7eae3912acf8ae7f859 1.46kB / 1.46kB                                                                 0.0s\n",
    " => => extracting sha256:fa0650a893c25858ebb09921bc9b7824594e23405374a6adbcd3b4e27e28e3cf                                                                      1.2s\n",
    " => [2/2] RUN apt-get update &&     apt-get install -y curl cowsay &&     apt-get upgrade -y                                                                  12.9s\n",
    " => exporting to image                                                                                                                                         0.5s \n",
    " => => exporting layers                                                                                                                                        0.5s \n",
    " => => writing image sha256:922e3da57fcfcecc348c8231eaa7d3ac36e4e764f0d2b22ea5d69a7940a717ea                                                                   0.0s \n",
    " => => naming to docker.io/library/cowsay_image                                                                                                                0.0s \n",
    "                                                                                                                                                                    \n",
    " 2 warnings found (use docker --debug to expand):                                                                                                                   \n",
    " - LegacyKeyValueFormat: \"LABEL key=value\" should be used instead of legacy \"LABEL key value\" format (line 5)\n",
    " - LegacyKeyValueFormat: \"LABEL key=value\" should be used instead of legacy \"LABEL key value\" format (line 6)\n"
   ]
  },
  {
   "cell_type": "code",
   "execution_count": null,
   "metadata": {
    "vscode": {
     "languageId": "shellscript"
    }
   },
   "outputs": [],
   "source": [
    "# make sure that the image has been built\n",
    "!docker images"
   ]
  },
  {
   "cell_type": "code",
   "execution_count": null,
   "metadata": {
    "vscode": {
     "languageId": "html"
    }
   },
   "outputs": [],
   "source": [
    "REPOSITORY                                                 TAG                        IMAGE ID       CREATED              SIZE\n",
    "\n",
    "cowsay_image                                               latest                     922e3da57fcf   About a minute ago   151MB"
   ]
  },
  {
   "cell_type": "code",
   "execution_count": null,
   "metadata": {
    "vscode": {
     "languageId": "shellscript"
    }
   },
   "outputs": [],
   "source": [
    "# run the docker file \n",
    "!docker run cowsay_image cowsay -t \"Hey, Docker is not that bad\""
   ]
  },
  {
   "cell_type": "code",
   "execution_count": null,
   "metadata": {
    "vscode": {
     "languageId": "html"
    }
   },
   "outputs": [],
   "source": [
    "< Hey, Docker is not that bad >\n",
    " -----------------------------\n",
    "        \\   ^__^\n",
    "         \\  (--)\\_______\n",
    "            (__)\\       )\\/\\\n",
    "                ||----w |\n",
    "                ||     ||\n"
   ]
  },
  {
   "cell_type": "markdown",
   "metadata": {},
   "source": [
    "## Let's do some bioinformatics with the docker file and create a new docker file that holds the salmon tool used in rnaseq\n",
    "\n",
    "**To do so, use \"curl\" in your new dockerfile to get salmon from https://github.com/COMBINE-lab/salmon/releases/download/v1.5.2/salmon-1.5.2_linux_x86_64.tar.gz**"
   ]
  },
  {
   "cell_type": "code",
   "execution_count": null,
   "metadata": {
    "vscode": {
     "languageId": "shellscript"
    }
   },
   "outputs": [],
   "source": [
    "# use the file \"salmon_docker\" in this directory to build a new docker image\n",
    "\n",
    "FROM debian:bullseye-slim\n",
    "\n",
    "LABEL image.author.name=\"am\"\n",
    "LABEL image.author.email=\"salmons_are_cool@gmail.com\"\n",
    "\n",
    "# Install dependencies\n",
    "\n",
    "RUN apt-get update && \\\n",
    "    apt-get install -y curl tar && \\\n",
    "    apt-get upgrade -y\n",
    "\n",
    "# Download and install Salmon\n",
    "\n",
    "RUN curl -L -o salmon-1.5.2_linux_x86_64.tar.gz https://github.com/COMBINE-lab/salmon/releases/download/v1.5.2/salmon-1.5.2_linux_x86_64.tar.gz && \\\n",
    "    tar -xzvf salmon-1.5.2_linux_x86_64.tar.gz && \\\n",
    "    cp salmon-1.5.2_linux_x86_64/bin/salmon /usr/local/bin/\n",
    "\n",
    "    \n",
    "# Set the PATH environment variable (to /usr/bin)\n",
    "\n",
    "ENV PATH=\"$PATH:/usr/bin\" "
   ]
  },
  {
   "cell_type": "code",
   "execution_count": 47,
   "metadata": {
    "vscode": {
     "languageId": "shellscript"
    }
   },
   "outputs": [],
   "source": [
    "# build the image in new directory\n",
    "!docker build -f salmon_docker -t salmon_image .\n"
   ]
  },
  {
   "cell_type": "code",
   "execution_count": null,
   "metadata": {
    "vscode": {
     "languageId": "shellscript"
    }
   },
   "outputs": [
    {
     "name": "stdout",
     "output_type": "stream",
     "text": [
      "salmon 1.5.2\n"
     ]
    }
   ],
   "source": [
    "# run the docker image to give out the version of salmon\n",
    "\n",
    "!docker run salmon_image salmon-1.5.2_linux_x86_64/bin/salmon --version"
   ]
  },
  {
   "cell_type": "markdown",
   "metadata": {},
   "source": [
    "## Do you think bioinformaticians have to create a docker image every time they want to run a tool?"
   ]
  },
  {
   "cell_type": "markdown",
   "metadata": {},
   "source": [
    "No, they either share their docker images, or call them in their pipelines."
   ]
  },
  {
   "cell_type": "markdown",
   "metadata": {},
   "source": [
    "**Find the salmon docker image online and run it on your computer.**"
   ]
  },
  {
   "cell_type": "markdown",
   "metadata": {},
   "source": [
    "the dockerfile can be found here: https://github.com/COMBINE-lab/salmon/blob/master/docker/Dockerfile\n",
    "\n",
    "while the image is hosted at https://hub.docker.com/layers/combinelab/salmon/0.12.0/images/sha256-8ceee4b7c3b49af7eb002ffd5754c660342a3c06adf6afd63508fbc7b7f34799\n"
   ]
  },
  {
   "cell_type": "code",
   "execution_count": null,
   "metadata": {
    "vscode": {
     "languageId": "shellscript"
    }
   },
   "outputs": [],
   "source": [
    "!docker pull combinelab/salmon:1.10.3"
   ]
  },
  {
   "cell_type": "code",
   "execution_count": null,
   "metadata": {
    "vscode": {
     "languageId": "html"
    }
   },
   "outputs": [],
   "source": [
    "1.10.3: Pulling from combinelab/salmon\n",
    "7c457f213c76: Pull complete \n",
    "36c51ed9ab84: Pull complete \n",
    "bbd50bdd40c3: Pull complete \n",
    "0063893c1bc1: Pull complete \n",
    "1c8f9485d7ab: Pull complete \n",
    "Digest: sha256:cefd8bb0b2ed9b07f22b5f0fc317ddda540e5b0dc00810d1ff0d92fee5d80370\n",
    "Status: Downloaded newer image for combinelab/salmon:1.10.3\n",
    "docker.io/combinelab/salmon:1.10.3"
   ]
  },
  {
   "cell_type": "code",
   "execution_count": null,
   "metadata": {
    "vscode": {
     "languageId": "shellscript"
    }
   },
   "outputs": [],
   "source": [
    "!docker run combinelab/salmon:1.10.3 --version"
   ]
  },
  {
   "cell_type": "markdown",
   "metadata": {},
   "source": [
    "salmon 1.10.3\n",
    "\n",
    "This is the latest available version"
   ]
  },
  {
   "cell_type": "markdown",
   "metadata": {},
   "source": [
    "**What is https://biocontainers.pro/ ?**"
   ]
  },
  {
   "cell_type": "markdown",
   "metadata": {
    "vscode": {
     "languageId": "shellscript"
    }
   },
   "source": [
    "\"BioContainers is a community-driven project that provides the infrastructure and basic guidelines to create, manage and distribute bioinformatics packages (e.g conda) and containers (e.g docker, singularity). BioContainers is based on the popular frameworks Conda, Docker and Singularity.\"\n",
    "\n",
    "https://biocontainers-edu.readthedocs.io/en/latest/what_is_biocontainers.html"
   ]
  }
 ],
 "metadata": {
  "kernelspec": {
   "display_name": "comp_work_kernel",
   "language": "python",
   "name": "comp_work_kernel"
  },
  "language_info": {
   "codemirror_mode": {
    "name": "ipython",
    "version": 3
   },
   "file_extension": ".py",
   "mimetype": "text/x-python",
   "name": "python",
   "nbconvert_exporter": "python",
   "pygments_lexer": "ipython3",
   "version": "3.10.14"
  }
 },
 "nbformat": 4,
 "nbformat_minor": 2
}
