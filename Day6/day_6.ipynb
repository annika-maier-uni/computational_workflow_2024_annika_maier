{
 "cells": [
  {
   "cell_type": "markdown",
   "metadata": {},
   "source": [
    "# Day 6 - Nextflow Basics: Introduction to channels and operators"
   ]
  },
  {
   "cell_type": "markdown",
   "metadata": {},
   "source": [
    "**Today, we will begin exploring Nextflow, the programming language that powers the advanced nf-core pipelines you worked with last week. Your task is to dive into the core concepts and syntax of Nextflow, understanding how this language enables the development of scalable and reproducible workflows.**\n",
    "\n",
    "**Nextflow works quite differently from traditional programming languages like Python or Java that you may already be familiar with. To get started, it is essential to understand the foundational concepts that set Nextflow apart.**"
   ]
  },
  {
   "cell_type": "markdown",
   "metadata": {},
   "source": [
    "### 1. Describe the concept of Workflows, Processes and Channels we deal with in Nextflow"
   ]
  },
  {
   "cell_type": "markdown",
   "metadata": {},
   "source": [
    "**Workflows:**\n",
    "\n",
    "Consists of multiple processes, executed in the order of available data.\n",
    "\n",
    "\n",
    "\n",
    "**Processes:**\n",
    "\n",
    "Can have one or multiple inpit and output channels.\n",
    "\n",
    "Separate execution of a program\n",
    "\n",
    "\n",
    "\n",
    "\n",
    "\n",
    "**Channels:** \n",
    "\n",
    "A way for processes to communicate with each other, as they are independant and do not share a common writable state,"
   ]
  },
  {
   "cell_type": "markdown",
   "metadata": {},
   "source": [
    "## Introduction to channels\n",
    "\n",
    "**Please refer to the file**  $\\texttt{channels\\_intro.nf}$ **for the next exercises. Then run the code with the respective flag here below.**"
   ]
  },
  {
   "cell_type": "code",
   "execution_count": 6,
   "metadata": {},
   "outputs": [
    {
     "name": "stdout",
     "output_type": "stream",
     "text": [
      "\u001b[33mNextflow 24.04.4 is available - Please consider updating your version to it\u001b[m\n",
      "N E X T F L O W  ~  version 23.10.1\n",
      "Launching `channels_intro.nf` [golden_meninsky] DSL2 - revision: 16520ed601\n",
      "[1, 2, 3, 4, 5, 6, 7, 8, 9, 10]\n"
     ]
    }
   ],
   "source": [
    "# Task 1 - Create a channel that enumerates the numbers from 1 to 10\n",
    "!nextflow run channels_intro.nf --step 1"
   ]
  },
  {
   "cell_type": "code",
   "execution_count": 9,
   "metadata": {},
   "outputs": [
    {
     "name": "stdout",
     "output_type": "stream",
     "text": [
      "\u001b[33mNextflow 24.04.4 is available - Please consider updating your version to it\u001b[m\n",
      "N E X T F L O W  ~  version 23.10.1\n",
      "Launching `channels_intro.nf` [peaceful_kilby] DSL2 - revision: 9d76f9bee6\n",
      "[A, B, C, D, E, F, G, H, I, J, K, L, M, N, O, P, Q, R, S, T, U, V, W, X, Y, Z]\n"
     ]
    }
   ],
   "source": [
    "# Task 2 - Create a channel that gives out the entire alphabet\n",
    "!nextflow run channels_intro.nf --step 2"
   ]
  },
  {
   "cell_type": "code",
   "execution_count": 12,
   "metadata": {},
   "outputs": [
    {
     "name": "stdout",
     "output_type": "stream",
     "text": [
      "\u001b[33mNextflow 24.04.4 is available - Please consider updating your version to it\u001b[m\n",
      "N E X T F L O W  ~  version 23.10.1\n",
      "Launching `channels_intro.nf` [hopeful_knuth] DSL2 - revision: cfaa1e2195\n",
      "/home/satan/Documents/computational_workflows/day_6/files_dir/fastq3_2.fq\n",
      "/home/satan/Documents/computational_workflows/day_6/files_dir/SRR1_2.fq\n",
      "/home/satan/Documents/computational_workflows/day_6/files_dir/SRR1_1.fq\n",
      "/home/satan/Documents/computational_workflows/day_6/files_dir/fastq4_1.fq\n",
      "/home/satan/Documents/computational_workflows/day_6/files_dir/fastq3_1.fq\n",
      "/home/satan/Documents/computational_workflows/day_6/files_dir/file_2.txt\n",
      "/home/satan/Documents/computational_workflows/day_6/files_dir/fastq1_1.fq\n",
      "/home/satan/Documents/computational_workflows/day_6/files_dir/SRR.fq\n",
      "/home/satan/Documents/computational_workflows/day_6/files_dir/fastq1_2.fq\n",
      "/home/satan/Documents/computational_workflows/day_6/files_dir/SRR3_1.fq\n",
      "/home/satan/Documents/computational_workflows/day_6/files_dir/SRR2_1.fq\n",
      "/home/satan/Documents/computational_workflows/day_6/files_dir/fastq2_2.fq\n",
      "/home/satan/Documents/computational_workflows/day_6/files_dir/file_4.txt\n",
      "/home/satan/Documents/computational_workflows/day_6/files_dir/fastq.fq\n",
      "/home/satan/Documents/computational_workflows/day_6/files_dir/file_1.txt\n",
      "/home/satan/Documents/computational_workflows/day_6/files_dir/file_5.txt\n",
      "/home/satan/Documents/computational_workflows/day_6/files_dir/SRR4_1.fq\n",
      "/home/satan/Documents/computational_workflows/day_6/files_dir/SRR4_2.fq\n",
      "/home/satan/Documents/computational_workflows/day_6/files_dir/fastq_2.fq\n",
      "/home/satan/Documents/computational_workflows/day_6/files_dir/fastq2_1.fq\n",
      "/home/satan/Documents/computational_workflows/day_6/files_dir/file_3.txt\n",
      "/home/satan/Documents/computational_workflows/day_6/files_dir/fastq_1.fq\n",
      "/home/satan/Documents/computational_workflows/day_6/files_dir/SRR2_2.fq\n",
      "/home/satan/Documents/computational_workflows/day_6/files_dir/SRR3_2.fq\n",
      "/home/satan/Documents/computational_workflows/day_6/files_dir/SRR5_1.fq\n",
      "/home/satan/Documents/computational_workflows/day_6/files_dir/fastq5_2.fq\n",
      "/home/satan/Documents/computational_workflows/day_6/files_dir/SRR5_2.fq\n",
      "/home/satan/Documents/computational_workflows/day_6/files_dir/fastq5_1.fq\n",
      "/home/satan/Documents/computational_workflows/day_6/files_dir/fastq4_2.fq\n"
     ]
    }
   ],
   "source": [
    "# Task 3 - Create a channel that includes all files in the \"files_dir\" directory\n",
    "!nextflow run channels_intro.nf --step 3"
   ]
  },
  {
   "cell_type": "code",
   "execution_count": 13,
   "metadata": {},
   "outputs": [
    {
     "name": "stdout",
     "output_type": "stream",
     "text": [
      "\u001b[33mNextflow 24.04.4 is available - Please consider updating your version to it\u001b[m\n",
      "N E X T F L O W  ~  version 23.10.1\n",
      "Launching `channels_intro.nf` [special_meninsky] DSL2 - revision: 19919c077f\n",
      "/home/satan/Documents/computational_workflows/day_6/files_dir/file_2.txt\n",
      "/home/satan/Documents/computational_workflows/day_6/files_dir/file_4.txt\n",
      "/home/satan/Documents/computational_workflows/day_6/files_dir/file_1.txt\n",
      "/home/satan/Documents/computational_workflows/day_6/files_dir/file_5.txt\n",
      "/home/satan/Documents/computational_workflows/day_6/files_dir/file_3.txt\n"
     ]
    }
   ],
   "source": [
    "# Task 4 - Create a channel that includes all TXT files in the \"files_dir\" directory\n",
    "!nextflow run channels_intro.nf --step 4"
   ]
  },
  {
   "cell_type": "code",
   "execution_count": 15,
   "metadata": {},
   "outputs": [
    {
     "name": "stdout",
     "output_type": "stream",
     "text": [
      "\u001b[33mNextflow 24.04.4 is available - Please consider updating your version to it\u001b[m\n",
      "N E X T F L O W  ~  version 23.10.1\n",
      "Launching `channels_intro.nf` [cranky_wilson] DSL2 - revision: 0e1e6a70e1\n",
      "/home/satan/Documents/computational_workflows/day_6/files_dir/fastq_1.fq\n",
      "/home/satan/Documents/computational_workflows/day_6/files_dir/fastq_2.fq\n"
     ]
    }
   ],
   "source": [
    "# Task 5 - Create a channel that includes the files \"fastq_1.fq\" and \"fastq_2.fq\" in the \"files_dir\" directory\n",
    "!nextflow run channels_intro.nf --step 5"
   ]
  },
  {
   "cell_type": "code",
   "execution_count": 18,
   "metadata": {},
   "outputs": [
    {
     "name": "stdout",
     "output_type": "stream",
     "text": [
      "\u001b[33mNextflow 24.04.4 is available - Please consider updating your version to it\u001b[m\n",
      "N E X T F L O W  ~  version 23.10.1\n",
      "Launching `channels_intro.nf` [clever_engelbart] DSL2 - revision: 4e67b55457\n",
      "31\n"
     ]
    }
   ],
   "source": [
    "# Task 6 - go back to the time when you included all files. Are you sure that really ALL files are included? If not, how can you include them?\n",
    "!nextflow run channels_intro.nf --step 6"
   ]
  },
  {
   "cell_type": "markdown",
   "metadata": {},
   "source": [
    "Yep. 31 files. Are all included and no modification is necessary.\n",
    "Hidden files were also included."
   ]
  },
  {
   "cell_type": "code",
   "execution_count": 22,
   "metadata": {},
   "outputs": [
    {
     "name": "stdout",
     "output_type": "stream",
     "text": [
      "\u001b[33mNextflow 24.04.4 is available - Please consider updating your version to it\u001b[m\n",
      "N E X T F L O W  ~  version 23.10.1\n",
      "Launching `channels_intro.nf` [cheeky_rubens] DSL2 - revision: 88590569dd\n",
      "[SRR1, [/home/satan/Documents/computational_workflows/day_6/files_dir/SRR1_1.fq, /home/satan/Documents/computational_workflows/day_6/files_dir/SRR1_2.fq]]\n",
      "[fastq3, [/home/satan/Documents/computational_workflows/day_6/files_dir/fastq3_1.fq, /home/satan/Documents/computational_workflows/day_6/files_dir/fastq3_2.fq]]\n",
      "[fastq1, [/home/satan/Documents/computational_workflows/day_6/files_dir/fastq1_1.fq, /home/satan/Documents/computational_workflows/day_6/files_dir/fastq1_2.fq]]\n",
      "[SRR4, [/home/satan/Documents/computational_workflows/day_6/files_dir/SRR4_1.fq, /home/satan/Documents/computational_workflows/day_6/files_dir/SRR4_2.fq]]\n",
      "[fastq2, [/home/satan/Documents/computational_workflows/day_6/files_dir/fastq2_1.fq, /home/satan/Documents/computational_workflows/day_6/files_dir/fastq2_2.fq]]\n",
      "[fastq, [/home/satan/Documents/computational_workflows/day_6/files_dir/fastq_1.fq, /home/satan/Documents/computational_workflows/day_6/files_dir/fastq_2.fq]]\n",
      "[SRR2, [/home/satan/Documents/computational_workflows/day_6/files_dir/SRR2_1.fq, /home/satan/Documents/computational_workflows/day_6/files_dir/SRR2_2.fq]]\n",
      "[SRR3, [/home/satan/Documents/computational_workflows/day_6/files_dir/SRR3_1.fq, /home/satan/Documents/computational_workflows/day_6/files_dir/SRR3_2.fq]]\n",
      "[SRR5, [/home/satan/Documents/computational_workflows/day_6/files_dir/SRR5_1.fq, /home/satan/Documents/computational_workflows/day_6/files_dir/SRR5_2.fq]]\n",
      "[fastq5, [/home/satan/Documents/computational_workflows/day_6/files_dir/fastq5_1.fq, /home/satan/Documents/computational_workflows/day_6/files_dir/fastq5_2.fq]]\n",
      "[fastq4, [/home/satan/Documents/computational_workflows/day_6/files_dir/fastq4_1.fq, /home/satan/Documents/computational_workflows/day_6/files_dir/fastq4_2.fq]]\n"
     ]
    }
   ],
   "source": [
    "# Task 7 - get all filepairs in the \"files_dir\" directory\n",
    "!nextflow run channels_intro.nf --step 7"
   ]
  },
  {
   "cell_type": "markdown",
   "metadata": {},
   "source": [
    "## Now that you have a solid understanding of the basic concepts of channels in Nextflow, it’s time to experiment and see how they work in practice."
   ]
  },
  {
   "cell_type": "markdown",
   "metadata": {},
   "source": [
    "**To do so, Nextflow has the concept of Operators to give and pass information inbetween channels.**\n",
    "\n",
    "**Please answer the questions in** $\\texttt{basic\\_channel\\_operations.nf}$ **and run the code here.** "
   ]
  },
  {
   "cell_type": "code",
   "execution_count": 47,
   "metadata": {},
   "outputs": [
    {
     "name": "stdout",
     "output_type": "stream",
     "text": [
      "\n",
      "\u001b[1m\u001b[38;5;232m\u001b[48;5;43m N E X T F L O W \u001b[0;2m  ~  \u001b[mversion 24.04.4\u001b[m\n",
      "\u001b[K\n",
      "Launching\u001b[35m `basic_channel_operations.nf` \u001b[0;2m[\u001b[0;1;36mirreverent_meninsky\u001b[0;2m] DSL2 - \u001b[36mrevision: \u001b[0;36m0012aa6b33\u001b[m\n",
      "\u001b[K\n",
      "Hello World\n",
      "1\n"
     ]
    }
   ],
   "source": [
    "# Task 1 - Extract the first item from the channel\n",
    "!nextflow run basic_channel_operations.nf --step 1"
   ]
  },
  {
   "cell_type": "code",
   "execution_count": 49,
   "metadata": {},
   "outputs": [
    {
     "name": "stdout",
     "output_type": "stream",
     "text": [
      "\n",
      "\u001b[1m\u001b[38;5;232m\u001b[48;5;43m N E X T F L O W \u001b[0;2m  ~  \u001b[mversion 24.04.4\u001b[m\n",
      "\u001b[K\n",
      "Launching\u001b[35m `basic_channel_operations.nf` \u001b[0;2m[\u001b[0;1;36melegant_stonebraker\u001b[0;2m] DSL2 - \u001b[36mrevision: \u001b[0;36m392c3f340d\u001b[m\n",
      "\u001b[K\n",
      "3\n"
     ]
    }
   ],
   "source": [
    "# Task 2 - Extract the last item from the channel\n",
    "!nextflow run basic_channel_operations.nf --step 2"
   ]
  },
  {
   "cell_type": "code",
   "execution_count": 54,
   "metadata": {},
   "outputs": [
    {
     "name": "stdout",
     "output_type": "stream",
     "text": [
      "\n",
      "\u001b[1m\u001b[38;5;232m\u001b[48;5;43m N E X T F L O W \u001b[0;2m  ~  \u001b[mversion 24.04.4\u001b[m\n",
      "\u001b[K\n",
      "Launching\u001b[35m `basic_channel_operations.nf` \u001b[0;2m[\u001b[0;1;36mhigh_pauling\u001b[0;2m] DSL2 - \u001b[36mrevision: \u001b[0;36mc387c16aae\u001b[m\n",
      "\u001b[K\n",
      "1\n",
      "2\n"
     ]
    }
   ],
   "source": [
    "# Task 3 - Use an operator to extract the first two items from the channel\n",
    "!nextflow run basic_channel_operations.nf --step 3"
   ]
  },
  {
   "cell_type": "code",
   "execution_count": 93,
   "metadata": {},
   "outputs": [
    {
     "name": "stdout",
     "output_type": "stream",
     "text": [
      "\n",
      "\u001b[1m\u001b[38;5;232m\u001b[48;5;43m N E X T F L O W \u001b[0;2m  ~  \u001b[mversion 24.04.4\u001b[m\n",
      "\u001b[K\n",
      "Launching\u001b[35m `basic_channel_operations.nf` \u001b[0;2m[\u001b[0;1;36mclever_majorana\u001b[0;2m] DSL2 - \u001b[36mrevision: \u001b[0;36m308ac1dc11\u001b[m\n",
      "\u001b[K\n",
      "4\n",
      "9\n",
      "16\n"
     ]
    }
   ],
   "source": [
    "# Task 4 - Return the squared values of the channel\n",
    "!nextflow run basic_channel_operations.nf --step 4"
   ]
  },
  {
   "cell_type": "code",
   "execution_count": 96,
   "metadata": {},
   "outputs": [
    {
     "name": "stdout",
     "output_type": "stream",
     "text": [
      "\n",
      "\u001b[1m\u001b[38;5;232m\u001b[48;5;43m N E X T F L O W \u001b[0;2m  ~  \u001b[mversion 24.04.4\u001b[m\n",
      "\u001b[K\n",
      "Launching\u001b[35m `basic_channel_operations.nf` \u001b[0;2m[\u001b[0;1;36madoring_easley\u001b[0;2m] DSL2 - \u001b[36mrevision: \u001b[0;36mdc7f603e45\u001b[m\n",
      "\u001b[K\n",
      "4\n",
      "9\n"
     ]
    }
   ],
   "source": [
    "# Task 5 - Remember the previous task where you squared the values of the channel. Now, extract the first two items from the squared channel\n",
    "!nextflow run basic_channel_operations.nf --step 5"
   ]
  },
  {
   "cell_type": "code",
   "execution_count": 104,
   "metadata": {},
   "outputs": [
    {
     "name": "stdout",
     "output_type": "stream",
     "text": [
      "\n",
      "\u001b[1m\u001b[38;5;232m\u001b[48;5;43m N E X T F L O W \u001b[0;2m  ~  \u001b[mversion 24.04.4\u001b[m\n",
      "\u001b[K\n",
      "Launching\u001b[35m `basic_channel_operations.nf` \u001b[0;2m[\u001b[0;1;36mcrazy_shirley\u001b[0;2m] DSL2 - \u001b[36mrevision: \u001b[0;36m9f3796fee2\u001b[m\n",
      "\u001b[K\n",
      "rolyaT\n",
      "tfiwS\n"
     ]
    }
   ],
   "source": [
    "# Task 6 - Remember when you used bash to reverse the output? Try to use map and Groovy to reverse the output\n",
    "!nextflow run basic_channel_operations.nf --step 6"
   ]
  },
  {
   "cell_type": "code",
   "execution_count": 107,
   "metadata": {},
   "outputs": [
    {
     "name": "stdout",
     "output_type": "stream",
     "text": [
      "\n",
      "\u001b[1m\u001b[38;5;232m\u001b[48;5;43m N E X T F L O W \u001b[0;2m  ~  \u001b[mversion 24.04.4\u001b[m\n",
      "\u001b[K\n",
      "Launching\u001b[35m `basic_channel_operations.nf` \u001b[0;2m[\u001b[0;1;36mprickly_lalande\u001b[0;2m] DSL2 - \u001b[36mrevision: \u001b[0;36mc770bc6175\u001b[m\n",
      "\u001b[K\n",
      "[fastq3_2.fq, /home/satan/Documents/computational_workflows/day_6/files_dir/fastq3_2.fq]\n",
      "[SRR1_2.fq, /home/satan/Documents/computational_workflows/day_6/files_dir/SRR1_2.fq]\n",
      "[SRR1_1.fq, /home/satan/Documents/computational_workflows/day_6/files_dir/SRR1_1.fq]\n",
      "[fastq4_1.fq, /home/satan/Documents/computational_workflows/day_6/files_dir/fastq4_1.fq]\n",
      "[fastq3_1.fq, /home/satan/Documents/computational_workflows/day_6/files_dir/fastq3_1.fq]\n",
      "[fastq1_1.fq, /home/satan/Documents/computational_workflows/day_6/files_dir/fastq1_1.fq]\n",
      "[SRR.fq, /home/satan/Documents/computational_workflows/day_6/files_dir/SRR.fq]\n",
      "[fastq1_2.fq, /home/satan/Documents/computational_workflows/day_6/files_dir/fastq1_2.fq]\n",
      "[SRR3_1.fq, /home/satan/Documents/computational_workflows/day_6/files_dir/SRR3_1.fq]\n",
      "[SRR2_1.fq, /home/satan/Documents/computational_workflows/day_6/files_dir/SRR2_1.fq]\n",
      "[fastq2_2.fq, /home/satan/Documents/computational_workflows/day_6/files_dir/fastq2_2.fq]\n",
      "[fastq.fq, /home/satan/Documents/computational_workflows/day_6/files_dir/fastq.fq]\n",
      "[SRR4_1.fq, /home/satan/Documents/computational_workflows/day_6/files_dir/SRR4_1.fq]\n",
      "[SRR4_2.fq, /home/satan/Documents/computational_workflows/day_6/files_dir/SRR4_2.fq]\n",
      "[fastq_2.fq, /home/satan/Documents/computational_workflows/day_6/files_dir/fastq_2.fq]\n",
      "[fastq2_1.fq, /home/satan/Documents/computational_workflows/day_6/files_dir/fastq2_1.fq]\n",
      "[fastq_1.fq, /home/satan/Documents/computational_workflows/day_6/files_dir/fastq_1.fq]\n",
      "[SRR2_2.fq, /home/satan/Documents/computational_workflows/day_6/files_dir/SRR2_2.fq]\n",
      "[SRR3_2.fq, /home/satan/Documents/computational_workflows/day_6/files_dir/SRR3_2.fq]\n",
      "[SRR5_1.fq, /home/satan/Documents/computational_workflows/day_6/files_dir/SRR5_1.fq]\n",
      "[fastq5_2.fq, /home/satan/Documents/computational_workflows/day_6/files_dir/fastq5_2.fq]\n",
      "[SRR5_2.fq, /home/satan/Documents/computational_workflows/day_6/files_dir/SRR5_2.fq]\n",
      "[fastq5_1.fq, /home/satan/Documents/computational_workflows/day_6/files_dir/fastq5_1.fq]\n",
      "[fastq4_2.fq, /home/satan/Documents/computational_workflows/day_6/files_dir/fastq4_2.fq]\n"
     ]
    }
   ],
   "source": [
    "# Task 7 - Use fromPath to include all fastq files in the \"files_dir\" directory, then use map to return a pair containing the file name and the file path (Hint: include groovy code)\n",
    "!nextflow run basic_channel_operations.nf --step 7"
   ]
  },
  {
   "cell_type": "code",
   "execution_count": 111,
   "metadata": {},
   "outputs": [
    {
     "name": "stdout",
     "output_type": "stream",
     "text": [
      "\n",
      "\u001b[1m\u001b[38;5;232m\u001b[48;5;43m N E X T F L O W \u001b[0;2m  ~  \u001b[mversion 24.04.4\u001b[m\n",
      "\u001b[K\n",
      "Launching\u001b[35m `basic_channel_operations.nf` \u001b[0;2m[\u001b[0;1;36mnasty_dijkstra\u001b[0;2m] DSL2 - \u001b[36mrevision: \u001b[0;36mc6fb7dac57\u001b[m\n",
      "\u001b[K\n",
      "1\n",
      "2\n",
      "3\n",
      "4\n",
      "5\n",
      "6\n"
     ]
    }
   ],
   "source": [
    "# Task 8 - Combine the items from the two channels into a single channel\n",
    "!nextflow run basic_channel_operations.nf --step 8"
   ]
  },
  {
   "cell_type": "code",
   "execution_count": 112,
   "metadata": {},
   "outputs": [
    {
     "name": "stdout",
     "output_type": "stream",
     "text": [
      "\n",
      "\u001b[1m\u001b[38;5;232m\u001b[48;5;43m N E X T F L O W \u001b[0;2m  ~  \u001b[mversion 24.04.4\u001b[m\n",
      "\u001b[K\n",
      "Launching\u001b[35m `basic_channel_operations.nf` \u001b[0;2m[\u001b[0;1;36mintergalactic_hopper\u001b[0;2m] DSL2 - \u001b[36mrevision: \u001b[0;36m9ec853bef2\u001b[m\n",
      "\u001b[K\n",
      "1\n",
      "2\n",
      "3\n",
      "4\n",
      "5\n",
      "6\n"
     ]
    }
   ],
   "source": [
    "# Task 9 - Flatten the list in the channel\n",
    "!nextflow run basic_channel_operations.nf --step 9"
   ]
  },
  {
   "cell_type": "code",
   "execution_count": 113,
   "metadata": {},
   "outputs": [
    {
     "name": "stdout",
     "output_type": "stream",
     "text": [
      "\n",
      "\u001b[1m\u001b[38;5;232m\u001b[48;5;43m N E X T F L O W \u001b[0;2m  ~  \u001b[mversion 24.04.4\u001b[m\n",
      "\u001b[K\n",
      "Launching\u001b[35m `basic_channel_operations.nf` \u001b[0;2m[\u001b[0;1;36mloquacious_mendel\u001b[0;2m] DSL2 - \u001b[36mrevision: \u001b[0;36m61f943d51c\u001b[m\n",
      "\u001b[K\n",
      "[1, 2, 3]\n"
     ]
    }
   ],
   "source": [
    "# Task 10 - Collect the items of a channel into a list. What kind of channel is the output channel?\n",
    "!nextflow run basic_channel_operations.nf --step 10"
   ]
  },
  {
   "cell_type": "markdown",
   "metadata": {},
   "source": [
    "**What kind of channel is the output channel?**\n",
    "\n",
    "It is a value channel, as .toList() collects all the items from a source channel into a list and emits the list as a single item."
   ]
  },
  {
   "cell_type": "code",
   "execution_count": 126,
   "metadata": {},
   "outputs": [
    {
     "name": "stdout",
     "output_type": "stream",
     "text": [
      "\n",
      "\u001b[1m\u001b[38;5;232m\u001b[48;5;43m N E X T F L O W \u001b[0;2m  ~  \u001b[mversion 24.04.4\u001b[m\n",
      "\u001b[K\n",
      "Launching\u001b[35m `basic_channel_operations.nf` \u001b[0;2m[\u001b[0;1;36mscruffy_lovelace\u001b[0;2m] DSL2 - \u001b[36mrevision: \u001b[0;36m89a5d64b57\u001b[m\n",
      "\u001b[K\n",
      "[1, [V, f, B]]\n",
      "[3, [M, G, 33]]\n",
      "[2, [O, L, E]]\n"
     ]
    }
   ],
   "source": [
    "# Task 11 -  From the input channel, create lists where each first item in the list of lists is the first item in the output channel, followed by a list of all the items its paired with\n",
    "!nextflow run basic_channel_operations.nf --step 11"
   ]
  },
  {
   "cell_type": "code",
   "execution_count": 128,
   "metadata": {},
   "outputs": [
    {
     "name": "stdout",
     "output_type": "stream",
     "text": [
      "\n",
      "\u001b[1m\u001b[38;5;232m\u001b[48;5;43m N E X T F L O W \u001b[0;2m  ~  \u001b[mversion 24.04.4\u001b[m\n",
      "\u001b[K\n",
      "Launching\u001b[35m `basic_channel_operations.nf` \u001b[0;2m[\u001b[0;1;36mtender_bernard\u001b[0;2m] DSL2 - \u001b[36mrevision: \u001b[0;36mcc6e3b8db7\u001b[m\n",
      "\u001b[K\n",
      "[1, [V, B, f]]\n",
      "[3, [M, 33, G]]\n",
      "[2, [O, L, E]]\n"
     ]
    }
   ],
   "source": [
    "# Task 12 - Create a channel that joins the input to the output channel. What do you notice?\n",
    "!nextflow run basic_channel_operations.nf --step 12"
   ]
  },
  {
   "cell_type": "markdown",
   "metadata": {},
   "source": [
    "**Task 12 - What do you notice compared to Task 11?**\n",
    "\n",
    "The order of elements is different."
   ]
  },
  {
   "cell_type": "code",
   "execution_count": 156,
   "metadata": {},
   "outputs": [
    {
     "name": "stdout",
     "output_type": "stream",
     "text": [
      "\n",
      "\u001b[1m\u001b[38;5;232m\u001b[48;5;43m N E X T F L O W \u001b[0;2m  ~  \u001b[mversion 24.04.4\u001b[m\n",
      "\u001b[K\n",
      "Launching\u001b[35m `basic_channel_operations.nf` \u001b[0;2m[\u001b[0;1;36mmad_chandrasekhar\u001b[0;2m] DSL2 - \u001b[36mrevision: \u001b[0;36m64b61bc186\u001b[m\n",
      "\u001b[K\n",
      "None\n",
      "Even Numbers: 2\n",
      "Even Numbers: 4\n",
      "Even Numbers: 6\n",
      "Even Numbers: 8\n",
      "Odd Numbers: 1\n",
      "Even Numbers: 10\n",
      "Odd Numbers: 3\n",
      "Odd Numbers: 5\n",
      "Odd Numbers: 7\n",
      "Odd Numbers: 9\n"
     ]
    }
   ],
   "source": [
    "# Task 13 - Split the input channel into two channels, one of all the even numbers and the other of all the odd numbers.\n",
    "#           Write them to stdout including information about which is which\n",
    "!nextflow run basic_channel_operations.nf --step 13 -dump-channels"
   ]
  },
  {
   "cell_type": "code",
   "execution_count": 208,
   "metadata": {},
   "outputs": [
    {
     "name": "stdout",
     "output_type": "stream",
     "text": [
      "\n",
      "\u001b[1m\u001b[38;5;232m\u001b[48;5;43m N E X T F L O W \u001b[0;2m  ~  \u001b[mversion 24.04.4\u001b[m\n",
      "\u001b[K\n",
      "Launching\u001b[35m `basic_channel_operations.nf` \u001b[0;2m[\u001b[0;1;36mkickass_wright\u001b[0;2m] DSL2 - \u001b[36mrevision: \u001b[0;36m5670555e69\u001b[m\n",
      "\u001b[K\n",
      "Snape\n",
      "Albus\n",
      "Ron\n",
      "Hagrid\n",
      "Dobby\n",
      "Hermione\n",
      "Harry\n"
     ]
    }
   ],
   "source": [
    "# Task 14 - Nextflow has the concept of maps. Write the names in the maps in this channel to a file called \"names.txt\". Each name should be on a new line. \n",
    "#           Store the file in the \"results\" directory under the name \"names.txt\"\n",
    "\n",
    "!nextflow run basic_channel_operations.nf --step 14\n",
    "\n",
    "!cat results/names.txt\n"
   ]
  },
  {
   "cell_type": "markdown",
   "metadata": {},
   "source": [
    "## Now that we learned about Channels and Operators to deal with them, let's focus on Processes that make use of these channels."
   ]
  },
  {
   "cell_type": "markdown",
   "metadata": {},
   "source": [
    "**Please answer the questions in** $\\texttt{basics\\_processes.nf}$ **and run the code here.**"
   ]
  },
  {
   "cell_type": "code",
   "execution_count": 198,
   "metadata": {},
   "outputs": [
    {
     "name": "stdout",
     "output_type": "stream",
     "text": [
      "\n",
      "\u001b[1m\u001b[38;5;232m\u001b[48;5;43m N E X T F L O W \u001b[0;2m  ~  \u001b[mversion 24.04.4\u001b[m\n",
      "\u001b[K\n",
      "Launching\u001b[35m `basics_processes.nf` \u001b[0;2m[\u001b[0;1;36mromantic_maxwell\u001b[0;2m] DSL2 - \u001b[36mrevision: \u001b[0;36me093f37038\u001b[m\n",
      "\u001b[K\n",
      "\u001b[2m[\u001b[0;34m-        \u001b[0;2m] \u001b[0;2m\u001b[mSAYHELLO -\u001b[K\n",
      "\u001b[2A\n",
      "\u001b[2mexecutor >  local (1)\u001b[m\u001b[K\n",
      "\u001b[2m[\u001b[0;34mfc/58f541\u001b[0;2m] \u001b[0;2m\u001b[mSAYHELLO\u001b[2m |\u001b[m 1 of 1\u001b[32m ✔\u001b[m\u001b[K\n",
      "Hello world!\u001b[K\n",
      "\u001b[K\n",
      "\n"
     ]
    }
   ],
   "source": [
    "# Task 1 - create a process that says Hello World! (add debug true to the process right after initializing to be able to print the output to the console)\n",
    "!nextflow run basics_processes.nf --step 1"
   ]
  },
  {
   "cell_type": "code",
   "execution_count": 199,
   "metadata": {},
   "outputs": [
    {
     "name": "stdout",
     "output_type": "stream",
     "text": [
      "\n",
      "\u001b[1m\u001b[38;5;232m\u001b[48;5;43m N E X T F L O W \u001b[0;2m  ~  \u001b[mversion 24.04.4\u001b[m\n",
      "\u001b[K\n",
      "Launching\u001b[35m `basics_processes.nf` \u001b[0;2m[\u001b[0;1;36mangry_euclid\u001b[0;2m] DSL2 - \u001b[36mrevision: \u001b[0;36m7d82f2c63e\u001b[m\n",
      "\u001b[K\n",
      "\u001b[2m[\u001b[0;34m-        \u001b[0;2m] \u001b[0;2m\u001b[mSAYHELLO_PYTHON -\u001b[K\n",
      "\u001b[2A\n",
      "\u001b[2mexecutor >  local (1)\u001b[m\u001b[K\n",
      "\u001b[2m[\u001b[0;34m8a/e3b7cb\u001b[0;2m] \u001b[0;2m\u001b[mSAYHELLO_PYTHON\u001b[2m |\u001b[m 0 of 1\u001b[K\n",
      "\u001b[3A\n",
      "\u001b[2mexecutor >  local (1)\u001b[m\u001b[K\n",
      "\u001b[2m[\u001b[0;34m8a/e3b7cb\u001b[0;2m] \u001b[0;2m\u001b[mSAYHELLO_PYTHON\u001b[2m |\u001b[m 1 of 1\u001b[32m ✔\u001b[m\u001b[K\n",
      "Hello  world!\u001b[K\n",
      "\u001b[K\n",
      "\n"
     ]
    }
   ],
   "source": [
    "# Task 2 - create a process that says Hello World! using Python\n",
    "!nextflow run basics_processes.nf --step 2"
   ]
  },
  {
   "cell_type": "code",
   "execution_count": 210,
   "metadata": {},
   "outputs": [
    {
     "name": "stdout",
     "output_type": "stream",
     "text": [
      "\n",
      "\u001b[1m\u001b[38;5;232m\u001b[48;5;43m N E X T F L O W \u001b[0;2m  ~  \u001b[mversion 24.04.4\u001b[m\n",
      "\u001b[K\n",
      "Launching\u001b[35m `basics_processes.nf` \u001b[0;2m[\u001b[0;1;36msoggy_monod\u001b[0;2m] DSL2 - \u001b[36mrevision: \u001b[0;36m41f12cd03a\u001b[m\n",
      "\u001b[K\n",
      "\u001b[2m[\u001b[0;34m-        \u001b[0;2m] \u001b[0;2m\u001b[mSAYHELLO_PARAM -\u001b[K\n",
      "\u001b[2A\n",
      "\u001b[2mexecutor >  local (1)\u001b[m\u001b[K\n",
      "\u001b[2m[\u001b[0;34m68/5f081d\u001b[0;2m] \u001b[0;2m\u001b[mSAYHELLO_PARAM\u001b[33;2m (\u001b[0;33m1\u001b[2m)\u001b[m\u001b[2m |\u001b[m 0 of 1\u001b[K\n",
      "\u001b[3A\n",
      "\u001b[2mexecutor >  local (1)\u001b[m\u001b[K\n",
      "\u001b[2m[\u001b[0;34m68/5f081d\u001b[0;2m] \u001b[0;2m\u001b[mSAYHELLO_PARAM\u001b[33;2m (\u001b[0;33m1\u001b[2m)\u001b[m\u001b[2m |\u001b[m 1 of 1\u001b[32m ✔\u001b[m\u001b[K\n",
      "Hello world!\u001b[K\n",
      "\u001b[K\n",
      "\n"
     ]
    }
   ],
   "source": [
    "# Task 3 - create a process that reads in the string \"Hello world!\" from a channel and write it to command line\n",
    "!nextflow run basics_processes.nf --step 3"
   ]
  },
  {
   "cell_type": "code",
   "execution_count": 223,
   "metadata": {},
   "outputs": [
    {
     "name": "stdout",
     "output_type": "stream",
     "text": [
      "\n",
      "\u001b[1m\u001b[38;5;232m\u001b[48;5;43m N E X T F L O W \u001b[0;2m  ~  \u001b[mversion 24.04.4\u001b[m\n",
      "\u001b[K\n",
      "Launching\u001b[35m `basics_processes.nf` \u001b[0;2m[\u001b[0;1;36msharp_visvesvaraya\u001b[0;2m] DSL2 - \u001b[36mrevision: \u001b[0;36md0850fe862\u001b[m\n",
      "\u001b[K\n",
      "\u001b[2m[\u001b[0;34m-        \u001b[0;2m] \u001b[0;2m\u001b[mSAYHELLO_FILE -\u001b[K\n",
      "[DUMP: checking greeting_ch] 'Hello world!'\u001b[K\n",
      "\u001b[3A\n",
      "\u001b[2mexecutor >  local (1)\u001b[m\u001b[K\n",
      "\u001b[2m[\u001b[0;34m-        \u001b[0;2m] \u001b[0;2m\u001b[mSAYHELLO_FILE\u001b[2m |\u001b[m 0 of 1\u001b[K\n",
      "[DUMP: checking greeting_ch] 'Hello world!'\u001b[K\n",
      "\u001b[4A\n",
      "\u001b[2mexecutor >  local (1)\u001b[m\u001b[K\n",
      "\u001b[2m[\u001b[0;34m2d/f98248\u001b[0;2m] \u001b[0;2m\u001b[mSAYHELLO_FILE\u001b[33;2m (\u001b[0;33m1\u001b[2m)\u001b[m\u001b[2m |\u001b[m 1 of 1\u001b[32m ✔\u001b[m\u001b[K\n",
      "[DUMP: checking greeting_ch] 'Hello world!'\u001b[K\n",
      "Writing helloWorld.txt file to  /home/satan/Documents/computational_workflows/day_6\u001b[K\n",
      "\u001b[K\n",
      "\n"
     ]
    }
   ],
   "source": [
    "# Task 4 - create a process that reads in the string \"Hello world!\" from a channel and write it to a file. \n",
    "!nextflow run basics_processes.nf --step 4 -dump-channels"
   ]
  },
  {
   "cell_type": "markdown",
   "metadata": {},
   "source": [
    "**It might be that you created the file but it doesnt appear in the directory. Use the work folder and the output on the command line to find the file.**\n",
    "\n",
    "```x\n",
    "grep -i -d recurse  helloWorld\n",
    "```\n",
    "\n",
    "shows that the files are in the work directories\n",
    "\n",
    "`work/id/someLongId/helloWorld.txt` \n"
   ]
  },
  {
   "cell_type": "markdown",
   "metadata": {},
   "source": [
    "```xgrep -i -d recurse  helloWorld \n"
   ]
  },
  {
   "cell_type": "code",
   "execution_count": 258,
   "metadata": {},
   "outputs": [
    {
     "name": "stdout",
     "output_type": "stream",
     "text": [
      "\n",
      "\u001b[1m\u001b[38;5;232m\u001b[48;5;43m N E X T F L O W \u001b[0;2m  ~  \u001b[mversion 24.04.4\u001b[m\n",
      "\u001b[K\n",
      "Launching\u001b[35m `basics_processes.nf` \u001b[0;2m[\u001b[0;1;36mfestering_engelbart\u001b[0;2m] DSL2 - \u001b[36mrevision: \u001b[0;36m3d34085cc6\u001b[m\n",
      "\u001b[K\n",
      "\u001b[2m[\u001b[0;34m-        \u001b[0;2m] \u001b[0;2m\u001b[mUPPERCASE -\u001b[K\n",
      "\u001b[2A\n",
      "\u001b[2mexecutor >  local (1)\u001b[m\u001b[K\n",
      "\u001b[2m[\u001b[0;34m28/09820d\u001b[0;2m] \u001b[0;2m\u001b[mUPPERCASE\u001b[33;2m (\u001b[0;33m1\u001b[2m)\u001b[m\u001b[2m |\u001b[m 1 of 1\u001b[32m ✔\u001b[m\u001b[K\n",
      "Changing Hello world! to HELLO WORLD!\u001b[K\n",
      "\u001b[K\n",
      "/home/satan/Documents/computational_workflows/day_6/work/28/09820d3f20b3b95710bb02d389b68a/helloWorld_Uppercase.txt\u001b[K\n",
      "\u001b[6A\n",
      "\u001b[2mexecutor >  local (1)\u001b[m\u001b[K\n",
      "\u001b[2m[\u001b[0;34m28/09820d\u001b[0;2m] \u001b[0;2m\u001b[mUPPERCASE\u001b[33;2m (\u001b[0;33m1\u001b[2m)\u001b[m\u001b[2m |\u001b[m 1 of 1\u001b[32m ✔\u001b[m\u001b[K\n",
      "Changing Hello world! to HELLO WORLD!\u001b[K\n",
      "\u001b[K\n",
      "/home/satan/Documents/computational_workflows/day_6/work/28/09820d3f20b3b95710bb02d389b68a/helloWorld_Uppercase.txt\u001b[K\n",
      "\n"
     ]
    }
   ],
   "source": [
    "# Task 5 - create a process that reads in a string and converts it to uppercase and saves it to a file as output. View the path to the file in the console\n",
    "!nextflow run basics_processes.nf --step 5"
   ]
  },
  {
   "cell_type": "code",
   "execution_count": 249,
   "metadata": {},
   "outputs": [
    {
     "name": "stdout",
     "output_type": "stream",
     "text": [
      "\n",
      "\u001b[1m\u001b[38;5;232m\u001b[48;5;43m N E X T F L O W \u001b[0;2m  ~  \u001b[mversion 24.04.4\u001b[m\n",
      "\u001b[K\n",
      "Launching\u001b[35m `basics_processes.nf` \u001b[0;2m[\u001b[0;1;36mfriendly_goldwasser\u001b[0;2m] DSL2 - \u001b[36mrevision: \u001b[0;36m3d6ca182f9\u001b[m\n",
      "\u001b[K\n",
      "\u001b[2m[\u001b[0;34m-        \u001b[0;2m] \u001b[0;2m\u001b[mUPPERCASE  -\u001b[K\n",
      "\u001b[2m[\u001b[0;34m-        \u001b[0;2m] \u001b[0;2m\u001b[mPRINTUPPER -\u001b[K\n",
      "\u001b[3A\n",
      "\u001b[2mexecutor >  local (1)\u001b[m\u001b[K\n",
      "\u001b[2m[\u001b[0;34m90/60ed6e\u001b[0;2m] \u001b[0;2m\u001b[mUPPERCASE\u001b[33;2m (\u001b[0;33m1\u001b[2m)\u001b[m\u001b[2m |\u001b[m 0 of 1\u001b[K\n",
      "\u001b[2m[\u001b[0;34m-        \u001b[0;2m] \u001b[0;2m\u001b[mPRINTUPPER    -\u001b[K\n",
      "\u001b[4A\n",
      "\u001b[2mexecutor >  local (2)\u001b[m\u001b[K\n",
      "\u001b[2m[\u001b[0;34m90/60ed6e\u001b[0;2m] \u001b[0;2m\u001b[mUPPERCASE\u001b[33;2m (\u001b[0;33m1\u001b[2m)\u001b[m \u001b[2m |\u001b[m 1 of 1\u001b[32m ✔\u001b[m\u001b[K\n",
      "\u001b[2m[\u001b[0;34mf3/a05c6d\u001b[0;2m] \u001b[0;2m\u001b[mPRINTUPPER\u001b[33;2m (\u001b[0;33m1\u001b[2m)\u001b[m\u001b[2m |\u001b[m 1 of 1\u001b[32m ✔\u001b[m\u001b[K\n",
      "Changing Hello world! to HELLO WORLD!\u001b[K\n",
      "\u001b[K\n",
      "HELLO WORLD!\u001b[K\n",
      "\u001b[K\n",
      "\u001b[8A\n",
      "\u001b[2mexecutor >  local (2)\u001b[m\u001b[K\n",
      "\u001b[2m[\u001b[0;34m90/60ed6e\u001b[0;2m] \u001b[0;2m\u001b[mUPPERCASE\u001b[33;2m (\u001b[0;33m1\u001b[2m)\u001b[m \u001b[2m |\u001b[m 1 of 1\u001b[32m ✔\u001b[m\u001b[K\n",
      "\u001b[2m[\u001b[0;34mf3/a05c6d\u001b[0;2m] \u001b[0;2m\u001b[mPRINTUPPER\u001b[33;2m (\u001b[0;33m1\u001b[2m)\u001b[m\u001b[2m |\u001b[m 1 of 1\u001b[32m ✔\u001b[m\u001b[K\n",
      "Changing Hello world! to HELLO WORLD!\u001b[K\n",
      "\u001b[K\n",
      "HELLO WORLD!\u001b[K\n",
      "\u001b[K\n",
      "\n"
     ]
    }
   ],
   "source": [
    "# Task 6 - add another process that reads in the resulting file from UPPERCASE and print the content to the console (debug true).\n",
    "!nextflow run basics_processes.nf --step 6"
   ]
  },
  {
   "cell_type": "markdown",
   "metadata": {},
   "source": [
    "PRINTUPPER doesn't have an output. It only prints. The output from UPPER was a path\n",
    "\n",
    "Work directory is the only thing that changes, but that is to be expected\n",
    "\n"
   ]
  },
  {
   "cell_type": "markdown",
   "metadata": {},
   "source": [
    "**Comared to all the other runs. What changed in the output here and why?**"
   ]
  },
  {
   "cell_type": "markdown",
   "metadata": {},
   "source": [
    "Nothing really. The only difference is that we called 2 processes here."
   ]
  },
  {
   "cell_type": "code",
   "execution_count": 11,
   "metadata": {},
   "outputs": [
    {
     "name": "stdout",
     "output_type": "stream",
     "text": [
      "\n",
      "\u001b[1m\u001b[38;5;232m\u001b[48;5;43m N E X T F L O W \u001b[0;2m  ~  \u001b[mversion 24.04.4\u001b[m\n",
      "\u001b[K\n",
      "Launching\u001b[35m `basics_processes.nf` \u001b[0;2m[\u001b[0;1;36mromantic_ptolemy\u001b[0;2m] DSL2 - \u001b[36mrevision: \u001b[0;36mb414d8bc47\u001b[m\n",
      "\u001b[K\n",
      "params.zip\n",
      "gzip\n",
      "\u001b[2m[\u001b[0;34m-        \u001b[0;2m] \u001b[0;2m\u001b[mUPPERCASE -\u001b[K\n",
      "\u001b[2m[\u001b[0;34m-        \u001b[0;2m] \u001b[0;2m\u001b[mZIP       -\u001b[K\n",
      "\u001b[3A\n",
      "\u001b[2mexecutor >  local (1)\u001b[m\u001b[K\n",
      "\u001b[2m[\u001b[0;34m32/577dd5\u001b[0;2m] \u001b[0;2m\u001b[mUPPERCASE\u001b[33;2m (\u001b[0;33m1\u001b[2m)\u001b[m\u001b[2m |\u001b[m 0 of 1\u001b[K\n",
      "\u001b[2m[\u001b[0;34m-        \u001b[0;2m] \u001b[0;2m\u001b[mZIP           -\u001b[K\n",
      "\u001b[4A\n",
      "\u001b[2mexecutor >  local (1)\u001b[m\u001b[K\n",
      "\u001b[2m[\u001b[0;34m32/577dd5\u001b[0;2m] \u001b[0;2m\u001b[mUPPERCASE\u001b[33;2m (\u001b[0;33m1\u001b[2m)\u001b[m\u001b[2m |\u001b[m 1 of 1\u001b[32m ✔\u001b[m\u001b[K\n",
      "\u001b[2m[\u001b[0;34m-        \u001b[0;2m] \u001b[0;2m\u001b[mZIP          \u001b[2m |\u001b[m 0 of 1\u001b[K\n",
      "Changing Hello world! to HELLO WORLD!\u001b[K\n",
      "\u001b[K\n",
      "\u001b[6A\n",
      "\u001b[2mexecutor >  local (2)\u001b[m\u001b[K\n",
      "\u001b[2m[\u001b[0;34m32/577dd5\u001b[0;2m] \u001b[0;2m\u001b[mUPPERCASE\u001b[33;2m (\u001b[0;33m1\u001b[2m)\u001b[m\u001b[2m |\u001b[m 1 of 1\u001b[32m ✔\u001b[m\u001b[K\n",
      "\u001b[2m[\u001b[0;34m99/09e867\u001b[0;2m] \u001b[0;2m\u001b[mZIP\u001b[33;2m (\u001b[0;33m1\u001b[2m)\u001b[m      \u001b[2m |\u001b[m 1 of 1\u001b[32m ✔\u001b[m\u001b[K\n",
      "Changing Hello world! to HELLO WORLD!\u001b[K\n",
      "\u001b[K\n",
      "input helloWorld_Uppercase.txt\u001b[K\n",
      "output helloWorld_Uppercase.txt.gz\u001b[K\n",
      "\u001b[K\n",
      "\n"
     ]
    }
   ],
   "source": [
    "# Task 7 - based on the paramater \"zip\" (see at the head of the file), create a process that zips the file created in the UPPERCASE process either in \"zip\", \"gzip\" OR \"bzip2\" format.\n",
    "#          Print out the path to the zipped file in the console\n",
    "!nextflow run basics_processes.nf --step 7 --zip gzip"
   ]
  },
  {
   "cell_type": "code",
   "execution_count": 32,
   "metadata": {},
   "outputs": [
    {
     "name": "stdout",
     "output_type": "stream",
     "text": [
      "\n",
      "\u001b[1m\u001b[38;5;232m\u001b[48;5;43m N E X T F L O W \u001b[0;2m  ~  \u001b[mversion 24.04.4\u001b[m\n",
      "\u001b[K\n",
      "Launching\u001b[35m `basics_processes.nf` \u001b[0;2m[\u001b[0;1;36mnauseous_bhabha\u001b[0;2m] DSL2 - \u001b[36mrevision: \u001b[0;36mfa69ee4631\u001b[m\n",
      "\u001b[K\n",
      "\u001b[2m[\u001b[0;34m-        \u001b[0;2m] \u001b[0;2m\u001b[mUPPERCASE -\u001b[K\n",
      "\u001b[2m[\u001b[0;34m-        \u001b[0;2m] \u001b[0;2m\u001b[mZIP_FILES -\u001b[K\n",
      "uppercase path nextflow\u001b[K\n",
      "[DataflowBroadcast around DataflowStream[?]]\u001b[K\n",
      "\u001b[5A\n",
      "\u001b[2mexecutor >  local (1)\u001b[m\u001b[K\n",
      "\u001b[2m[\u001b[0;34mda/6835c3\u001b[0;2m] \u001b[0;2m\u001b[mUPPERCASE\u001b[33;2m (\u001b[0;33m1\u001b[2m)\u001b[m\u001b[2m |\u001b[m 0 of 1\u001b[K\n",
      "\u001b[2m[\u001b[0;34m-        \u001b[0;2m] \u001b[0;2m\u001b[mZIP_FILES     -\u001b[K\n",
      "uppercase path nextflow\u001b[K\n",
      "[DataflowBroadcast around DataflowStream[?]]\u001b[K\n",
      "\u001b[6A\n",
      "\u001b[2mexecutor >  local (2)\u001b[m\u001b[K\n",
      "\u001b[2m[\u001b[0;34mda/6835c3\u001b[0;2m] \u001b[0;2m\u001b[mUPPERCASE\u001b[33;2m (\u001b[0;33m1\u001b[2m)\u001b[m\u001b[2m |\u001b[m 1 of 1\u001b[32m ✔\u001b[m\u001b[K\n",
      "\u001b[2m[\u001b[0;34mca/af5037\u001b[0;2m] \u001b[0;2m\u001b[mZIP_FILES\u001b[33;2m (\u001b[0;33m1\u001b[2m)\u001b[m\u001b[2m |\u001b[m 1 of 1\u001b[32m ✔\u001b[m\u001b[K\n",
      "uppercase path nextflow\u001b[K\n",
      "[DataflowBroadcast around DataflowStream[?]]\u001b[K\n",
      "Changing Hello world! to HELLO WORLD!\u001b[K\n",
      "\u001b[K\n",
      "uppercase_path\u001b[K\n",
      "helloWorld_Uppercase.txt\u001b[K\n",
      "  adding: helloWorld_Uppercase.txt (stored 0%)\u001b[K\n",
      "Zipped file locations:\u001b[K\n",
      "helloWorld_Uppercase.txt.gz\u001b[K\n",
      "helloWorld_Uppercase.txt.bz2\u001b[K\n",
      "helloWorld_Uppercase.txt.zip\u001b[K\n",
      "\u001b[K\n",
      "\u001b[16A\n",
      "\u001b[2mexecutor >  local (2)\u001b[m\u001b[K\n",
      "\u001b[2m[\u001b[0;34mda/6835c3\u001b[0;2m] \u001b[0;2m\u001b[mUPPERCASE\u001b[33;2m (\u001b[0;33m1\u001b[2m)\u001b[m\u001b[2m |\u001b[m 1 of 1\u001b[32m ✔\u001b[m\u001b[K\n",
      "\u001b[2m[\u001b[0;34mca/af5037\u001b[0;2m] \u001b[0;2m\u001b[mZIP_FILES\u001b[33;2m (\u001b[0;33m1\u001b[2m)\u001b[m\u001b[2m |\u001b[m 1 of 1\u001b[32m ✔\u001b[m\u001b[K\n",
      "uppercase path nextflow\u001b[K\n",
      "[DataflowBroadcast around DataflowStream[?]]\u001b[K\n",
      "Changing Hello world! to HELLO WORLD!\u001b[K\n",
      "\u001b[K\n",
      "uppercase_path\u001b[K\n",
      "helloWorld_Uppercase.txt\u001b[K\n",
      "  adding: helloWorld_Uppercase.txt (stored 0%)\u001b[K\n",
      "Zipped file locations:\u001b[K\n",
      "helloWorld_Uppercase.txt.gz\u001b[K\n",
      "helloWorld_Uppercase.txt.bz2\u001b[K\n",
      "helloWorld_Uppercase.txt.zip\u001b[K\n",
      "\u001b[K\n",
      "\n"
     ]
    }
   ],
   "source": [
    "# Task 8 - Create a process that zips the file created in the UPPERCASE process in \"zip\", \"gzip\" AND \"bzip2\" format. Print out the paths to the zipped files in the console\n",
    "!nextflow run basics_processes.nf --step 8"
   ]
  },
  {
   "cell_type": "code",
   "execution_count": 64,
   "metadata": {},
   "outputs": [
    {
     "name": "stdout",
     "output_type": "stream",
     "text": [
      "\n",
      "\u001b[1m\u001b[38;5;232m\u001b[48;5;43m N E X T F L O W \u001b[0;2m  ~  \u001b[mversion 24.04.4\u001b[m\n",
      "\u001b[K\n",
      "Launching\u001b[35m `basics_processes.nf` \u001b[0;2m[\u001b[0;1;36mcompassionate_neumann\u001b[0;2m] DSL2 - \u001b[36mrevision: \u001b[0;36m72a8ec9853\u001b[m\n",
      "\u001b[K\n",
      "\u001b[2m[\u001b[0;34m-        \u001b[0;2m] \u001b[0;2m\u001b[mWRITETOFILE -\u001b[K\n",
      "\u001b[2A\n",
      "\u001b[2m[\u001b[0;34m-        \u001b[0;2m] \u001b[0;2m\u001b[mWRITETOFILE\u001b[2m |\u001b[m 0 of 7\u001b[K\n",
      "\u001b[2A\n",
      "\u001b[2mexecutor >  local (7)\u001b[m\u001b[K\n",
      "\u001b[2m[\u001b[0;34mb8/3f58b8\u001b[0;2m] \u001b[0;2m\u001b[mWRITETOFILE\u001b[33;2m (\u001b[0;33m4\u001b[2m)\u001b[m\u001b[2m |\u001b[m 1 of 7\u001b[32m ✔\u001b[m\u001b[K\n",
      "\u001b[3A\n",
      "\u001b[2mexecutor >  local (7)\u001b[m\u001b[K\n",
      "\u001b[2m[\u001b[0;34m9a/4cd5f3\u001b[0;2m] \u001b[0;2m\u001b[mWRITETOFILE\u001b[33;2m (\u001b[0;33m1\u001b[2m)\u001b[m\u001b[2m |\u001b[m 7 of 7\u001b[32m ✔\u001b[m\u001b[K\n",
      "\n"
     ]
    }
   ],
   "source": [
    "# Task 9 - Create a process that reads in a list of names and titles from a channel and writes them to a file.\n",
    "#           Store the file in the \"results\" directory under the name \"names.tsv\"\n",
    "!nextflow run basics_processes.nf --step 9"
   ]
  },
  {
   "cell_type": "code",
   "execution_count": null,
   "metadata": {},
   "outputs": [],
   "source": [
    "import pandas as pd\n",
    "\n",
    "df = pd.read_csv(\"results/names.tsv\", sep=\"\\t\")\n",
    "df"
   ]
  },
  {
   "cell_type": "markdown",
   "metadata": {},
   "source": [
    "## Now, let's try some more advanced Operators"
   ]
  },
  {
   "cell_type": "markdown",
   "metadata": {},
   "source": [
    "**Please answer the questions in** $\\texttt{advanced\\_channel\\_operations.nf}$ **and run the code here.**"
   ]
  },
  {
   "cell_type": "markdown",
   "metadata": {},
   "source": [
    "**To come closer to actual pipelines, we introduce the concept of \"meta-maps\" which you can imagine as dictionaries that are passed with data via channels containing crucial metadata on the sample.** \n",
    "\n",
    "**Also, we will come back to samplesheets which you should remember from last week.**"
   ]
  },
  {
   "cell_type": "code",
   "execution_count": 286,
   "metadata": {},
   "outputs": [
    {
     "name": "stdout",
     "output_type": "stream",
     "text": [
      "\n",
      "\u001b[1m\u001b[38;5;232m\u001b[48;5;43m N E X T F L O W \u001b[0;2m  ~  \u001b[mversion 24.04.4\u001b[m\n",
      "\u001b[K\n",
      "Launching\u001b[35m `advanced_channel_operations.nf` \u001b[0;2m[\u001b[0;1;36msuspicious_celsius\u001b[0;2m] DSL2 - \u001b[36mrevision: \u001b[0;36medb0c7e0cc\u001b[m\n",
      "\u001b[K\n"
     ]
    }
   ],
   "source": [
    "# Task 1 - Read in the samplesheet.\n",
    "\n",
    "!nextflow run advanced_channel_operations.nf --step 1"
   ]
  },
  {
   "cell_type": "code",
   "execution_count": 301,
   "metadata": {},
   "outputs": [
    {
     "name": "stdout",
     "output_type": "stream",
     "text": [
      "\n",
      "\u001b[1m\u001b[38;5;232m\u001b[48;5;43m N E X T F L O W \u001b[0;2m  ~  \u001b[mversion 24.04.4\u001b[m\n",
      "\u001b[K\n",
      "Launching\u001b[35m `advanced_channel_operations.nf` \u001b[0;2m[\u001b[0;1;36mgigantic_bassi\u001b[0;2m] DSL2 - \u001b[36mrevision: \u001b[0;36mba188b2ef9\u001b[m\n",
      "\u001b[K\n",
      "[sample:CONTROL_REP1, strandedness:auto, fastq_1:fq_1_R1.fastq.gz, fastq_2:fq_1_R2.fastq.gz]\n",
      "[sample:CONTROL_REP2, strandedness:forward, fastq_1:fq_2_R1.fastq.gz, fastq_2:fq_2_R2.fastq.gz]\n",
      "[sample:CONTROL_REP3, strandedness:reverse, fastq_1:fq_3_R1.fastq.gz, fastq_2:fq_3_R2.fastq.gz]\n",
      "[sample:CONTROL_REP1, strandedness:auto, fastq_1:fq_4_R1.fastq.gz, fastq_2:fq_4_R2.fastq.gz]\n"
     ]
    }
   ],
   "source": [
    "# Task 2 - Read in the samplesheet and create a meta-map with all metadata and another list with the filenames ([[metadata_1 : metadata_1, ...], [fastq_1, fastq_2]]).\n",
    "#          Set the output to a new channel \"in_ch\" and view the channel. YOU WILL NEED TO COPY AND PASTE THIS CODE INTO SOME OF THE FOLLOWING TASKS (sorry for that).\n",
    "\n",
    "!nextflow run advanced_channel_operations.nf --step 2"
   ]
  },
  {
   "cell_type": "code",
   "execution_count": 323,
   "metadata": {},
   "outputs": [
    {
     "name": "stdout",
     "output_type": "stream",
     "text": [
      "\n",
      "\u001b[1m\u001b[38;5;232m\u001b[48;5;43m N E X T F L O W \u001b[0;2m  ~  \u001b[mversion 24.04.4\u001b[m\n",
      "\u001b[K\n",
      "Launching\u001b[35m `advanced_channel_operations.nf` \u001b[0;2m[\u001b[0;1;36mcompassionate_faggin\u001b[0;2m] DSL2 - \u001b[36mrevision: \u001b[0;36mf9a77ad437\u001b[m\n",
      "\u001b[K\n",
      "auto\n",
      "[CONTROL_REP1, auto, fq_1_R1.fastq.gz, fq_1_R2.fastq.gz]\n",
      "[CONTROL_REP1, auto, fq_4_R1.fastq.gz, fq_4_R2.fastq.gz]\n"
     ]
    }
   ],
   "source": [
    "# Task 3 - Now we assume that we want to handle different \"strandedness\" values differently. \n",
    "#          Split the channel into the right amount of channels and write them all to stdout so that we can understand which is which.\n",
    "\n",
    "!nextflow run advanced_channel_operations.nf --step 3 -dump-channels"
   ]
  },
  {
   "cell_type": "markdown",
   "metadata": {},
   "source": [
    "I only show auto here since the output is not in order, so it wouldn't be useful otherwise"
   ]
  },
  {
   "cell_type": "code",
   "execution_count": 328,
   "metadata": {},
   "outputs": [
    {
     "name": "stdout",
     "output_type": "stream",
     "text": [
      "\n",
      "\u001b[1m\u001b[38;5;232m\u001b[48;5;43m N E X T F L O W \u001b[0;2m  ~  \u001b[mversion 24.04.4\u001b[m\n",
      "\u001b[K\n",
      "Launching\u001b[35m `advanced_channel_operations.nf` \u001b[0;2m[\u001b[0;1;36mdetermined_khorana\u001b[0;2m] DSL2 - \u001b[36mrevision: \u001b[0;36m79259aed04\u001b[m\n",
      "\u001b[K\n",
      "[[CONTROL_REP1, auto]:[[sample:CONTROL_REP1, strandedness:auto, fastq_1:fq_1_R1.fastq.gz, fastq_2:fq_1_R2.fastq.gz], [sample:CONTROL_REP1, strandedness:auto, fastq_1:fq_4_R1.fastq.gz, fastq_2:fq_4_R2.fastq.gz]], [CONTROL_REP2, forward]:[[sample:CONTROL_REP2, strandedness:forward, fastq_1:fq_2_R1.fastq.gz, fastq_2:fq_2_R2.fastq.gz]], [CONTROL_REP3, reverse]:[[sample:CONTROL_REP3, strandedness:reverse, fastq_1:fq_3_R1.fastq.gz, fastq_2:fq_3_R2.fastq.gz]]]\n"
     ]
    }
   ],
   "source": [
    "# Task 4 - Group together all files with the same sample-id and strandedness value.\n",
    "\n",
    "!nextflow run advanced_channel_operations.nf --step 4"
   ]
  },
  {
   "cell_type": "markdown",
   "metadata": {},
   "source": [
    "## It's finally time to link processes and channels with each other"
   ]
  },
  {
   "cell_type": "markdown",
   "metadata": {},
   "source": [
    "**Please go to the file** $\\texttt{link\\_p\\_c.nf}$"
   ]
  },
  {
   "cell_type": "code",
   "execution_count": 72,
   "metadata": {},
   "outputs": [
    {
     "name": "stdout",
     "output_type": "stream",
     "text": [
      "\n",
      "\u001b[1m\u001b[38;5;232m\u001b[48;5;43m N E X T F L O W \u001b[0;2m  ~  \u001b[mversion 24.04.4\u001b[m\n",
      "\u001b[K\n",
      "Launching\u001b[35m `link_p_c.nf` \u001b[0;2m[\u001b[0;1;36mshrivelled_almeida\u001b[0;2m] DSL2 - \u001b[36mrevision: \u001b[0;36me08fcea12e\u001b[m\n",
      "\u001b[K\n",
      "\u001b[2m[\u001b[0;34m-        \u001b[0;2m] \u001b[0;2m\u001b[mSPLITLETTERS   -\u001b[K\n",
      "\u001b[2m[\u001b[0;34m-        \u001b[0;2m] \u001b[0;2m\u001b[mCONVERTTOUPPER -\u001b[K\n",
      "\u001b[3A\n",
      "\u001b[2mexecutor >  local (2)\u001b[m\u001b[K\n",
      "\u001b[2m[\u001b[0;34m01/7ee993\u001b[0;2m] \u001b[0;2m\u001b[mSPLITLETTERS\u001b[33;2m (\u001b[0;33m1\u001b[2m)\u001b[m\u001b[2m |\u001b[m 0 of 2\u001b[K\n",
      "\u001b[2m[\u001b[0;34m-        \u001b[0;2m] \u001b[0;2m\u001b[mCONVERTTOUPPER   -\u001b[K\n",
      "\u001b[4A\n",
      "\u001b[2mexecutor >  local (4)\u001b[m\u001b[K\n",
      "\u001b[2m[\u001b[0;34m73/115878\u001b[0;2m] \u001b[0;2m\u001b[mSPLITLETTERS\u001b[33;2m (\u001b[0;33m2\u001b[2m)\u001b[m  \u001b[2m |\u001b[m 2 of 2\u001b[32m ✔\u001b[m\u001b[K\n",
      "\u001b[2m[\u001b[0;34m68/bc19e5\u001b[0;2m] \u001b[0;2m\u001b[mCONVERTTOUPPER\u001b[33;2m (\u001b[0;33m1\u001b[2m)\u001b[m\u001b[2m |\u001b[m 1 of 2\u001b[K\n",
      "HELL O WO RLD\u001b[K\n",
      "\u001b[K\n",
      "\u001b[6A\n",
      "\u001b[2mexecutor >  local (4)\u001b[m\u001b[K\n",
      "\u001b[2m[\u001b[0;34m73/115878\u001b[0;2m] \u001b[0;2m\u001b[mSPLITLETTERS\u001b[33;2m (\u001b[0;33m2\u001b[2m)\u001b[m  \u001b[2m |\u001b[m 2 of 2\u001b[32m ✔\u001b[m\u001b[K\n",
      "\u001b[2m[\u001b[0;34m0a/2afb0d\u001b[0;2m] \u001b[0;2m\u001b[mCONVERTTOUPPER\u001b[33;2m (\u001b[0;33m2\u001b[2m)\u001b[m\u001b[2m |\u001b[m 2 of 2\u001b[32m ✔\u001b[m\u001b[K\n",
      "HELL O WO RLD\u001b[K\n",
      "\u001b[K\n",
      "COM PUT ATI ONA L W ORK FLO WS\u001b[K\n",
      "\u001b[K\n",
      "\n"
     ]
    }
   ],
   "source": [
    "!nextflow run link_p_c.nf"
   ]
  },
  {
   "cell_type": "markdown",
   "metadata": {},
   "source": [
    "### Give a list with the paths to the chunk files"
   ]
  },
  {
   "cell_type": "markdown",
   "metadata": {},
   "source": [
    "They are all in /results"
   ]
  },
  {
   "cell_type": "markdown",
   "metadata": {},
   "source": [
    "### Why was CONVERTTOUPPER run so often?"
   ]
  },
  {
   "cell_type": "markdown",
   "metadata": {},
   "source": [
    "To run the processes in parallel, the same function might be called multiple times for different data."
   ]
  }
 ],
 "metadata": {
  "kernelspec": {
   "display_name": "comp_work",
   "language": "python",
   "name": "python3"
  },
  "language_info": {
   "codemirror_mode": {
    "name": "ipython",
    "version": 3
   },
   "file_extension": ".py",
   "mimetype": "text/x-python",
   "name": "python",
   "nbconvert_exporter": "python",
   "pygments_lexer": "ipython3",
   "version": "3.10.14"
  }
 },
 "nbformat": 4,
 "nbformat_minor": 2
}
